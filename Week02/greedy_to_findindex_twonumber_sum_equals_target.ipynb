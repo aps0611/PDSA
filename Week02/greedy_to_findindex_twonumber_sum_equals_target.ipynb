{
  "nbformat": 4,
  "nbformat_minor": 0,
  "metadata": {
    "colab": {
      "provenance": []
    },
    "kernelspec": {
      "name": "python3",
      "display_name": "Python 3"
    },
    "language_info": {
      "name": "python"
    }
  },
  "cells": [
    {
      "cell_type": "code",
      "execution_count": 1,
      "metadata": {
        "id": "NCS-fokbryez"
      },
      "outputs": [],
      "source": [
        "MAX = 10000000000000\n",
        "def pairInArray(array, n, target):\n",
        "  (id1 , id2) = (0,0)\n",
        "  (low, high, diff) = (0,n-1,MAX)\n",
        "\n",
        "  while high > low:\n",
        "    if abs(array[low] + array[high] - target) < diff:\n",
        "      id1 = low\n",
        "      id2 = high\n",
        "      diff = abs(array[low] + array[high] - target)\n",
        "\n",
        "    if (array[low] + array[high]) > target:\n",
        "      high = high - 1\n",
        "    else:\n",
        "      low = low + 1\n",
        "\n",
        "  return id1,id2"
      ]
    },
    {
      "cell_type": "markdown",
      "source": [
        "Time complexity: O(nlogn)"
      ],
      "metadata": {
        "id": "QwFZy88XtHU5"
      }
    },
    {
      "cell_type": "code",
      "source": [],
      "metadata": {
        "id": "ef0RdPZKshPr"
      },
      "execution_count": null,
      "outputs": []
    }
  ]
}