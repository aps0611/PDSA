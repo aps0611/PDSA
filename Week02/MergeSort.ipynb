{
  "nbformat": 4,
  "nbformat_minor": 0,
  "metadata": {
    "colab": {
      "provenance": []
    },
    "kernelspec": {
      "name": "python3",
      "display_name": "Python 3"
    },
    "language_info": {
      "name": "python"
    }
  },
  "cells": [
    {
      "cell_type": "code",
      "metadata": {
        "colab": {
          "base_uri": "https://localhost:8080/"
        },
        "id": "GC0TmTapWB9y",
        "outputId": "fef5034c-0b14-494a-ecaf-3a797ee36f44"
      },
      "source": [
        "# Python program for implementation of MergeSort\n",
        "\n",
        "def mergeSort(MY_ARRAY):\n",
        "  ## Moving Top to Bottom in a Recursive Tree:\n",
        "\n",
        "\tif len(MY_ARRAY) > 1:\n",
        "    # Finding the mid of the array\n",
        "\t\tmid = len(MY_ARRAY)//2\n",
        "    # Dividing the array elements into two halves\n",
        "    # Left Subtree\n",
        "\t\tL = MY_ARRAY[:mid]\n",
        "\t\t# Right Subtree\n",
        "\t\tR = MY_ARRAY[mid:]\n",
        "\t\t# Sorting the first half(Left Subtree)\n",
        "\t\tmergeSort(L)    # Recursive Call\n",
        "\t\t# Sorting the second half(Right Subtree)\n",
        "\t\tmergeSort(R)    # Recursive Call\n",
        "\n",
        "    ## Move from Bottom to Top by applying merge procedure\n",
        "\t\ti = j = k = 0\n",
        "\n",
        "\t\t'''\n",
        "\t\ti : will take care of starting index of first sorted array\n",
        "\t\tj : will take care of starting index of second sorted array\n",
        "\t\tk : sorting index of new array\n",
        "\t\t'''\n",
        "\t\t# Copy data to temp arrays L[] and R[]\n",
        "\t\twhile i < len(L) and j < len(R):\n",
        "\t\t\tif L[i] < R[j]:\n",
        "\t\t\t\tMY_ARRAY[k] = L[i]\n",
        "\t\t\t\ti += 1\n",
        "\t\t\telse:\n",
        "\t\t\t\tMY_ARRAY[k] = R[j]\n",
        "\t\t\t\tj += 1\n",
        "\t\t\tk += 1\n",
        "\n",
        "\t\t# Checking if any element was left\n",
        "\t\twhile i < len(L):\n",
        "\t\t\tMY_ARRAY[k] = L[i]\n",
        "\t\t\ti += 1\n",
        "\t\t\tk += 1\n",
        "\n",
        "\t\twhile j < len(R):\n",
        "\t\t\tMY_ARRAY[k] = R[j]\n",
        "\t\t\tj += 1\n",
        "\t\t\tk += 1\n",
        "\n",
        "# Code to print the list\n",
        "def printList(MY_ARRAY):\n",
        "\tfor i in range(len(MY_ARRAY)):\n",
        "\t\tprint(MY_ARRAY[i], end=\" \")\n",
        "\tprint()\n",
        "\n",
        "\n",
        "# Driver Code\n",
        "if __name__ == '__main__':\n",
        "\tMY_ARRAY = [50, 20, 40, 90, 88, 11, 13]\n",
        "\tprint(\"Given array is\", end=\"\\n\")\n",
        "\tprintList(MY_ARRAY)\n",
        "\tmergeSort(MY_ARRAY)\n",
        "\tprint(\"Sorted array is: \", end=\"\\n\")\n",
        "\tprintList(MY_ARRAY)"
      ],
      "execution_count": 1,
      "outputs": [
        {
          "output_type": "stream",
          "name": "stdout",
          "text": [
            "Given array is\n",
            "50 20 40 90 88 11 13 \n",
            "Sorted array is: \n",
            "11 13 20 40 50 88 90 \n"
          ]
        }
      ]
    },
    {
      "cell_type": "code",
      "source": [],
      "metadata": {
        "id": "2QMAEFTAJg20"
      },
      "execution_count": null,
      "outputs": []
    }
  ]
}