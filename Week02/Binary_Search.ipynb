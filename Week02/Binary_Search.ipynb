{
  "nbformat": 4,
  "nbformat_minor": 0,
  "metadata": {
    "colab": {
      "provenance": []
    },
    "kernelspec": {
      "name": "python3",
      "display_name": "Python 3"
    },
    "language_info": {
      "name": "python"
    }
  },
  "cells": [
    {
      "cell_type": "markdown",
      "source": [
        "# Search Problem"
      ],
      "metadata": {
        "id": "e49oFZY_N8x2"
      }
    },
    {
      "cell_type": "markdown",
      "source": [
        "## naive search"
      ],
      "metadata": {
        "id": "MZgqboWET_8J"
      }
    },
    {
      "cell_type": "code",
      "execution_count": 1,
      "metadata": {
        "id": "nQQJ1JTSN8Qk"
      },
      "outputs": [],
      "source": [
        "## Naive Search\n",
        "\n",
        "def naivesearch(v,l):\n",
        "  for x in l:\n",
        "    if v == x:\n",
        "      return True\n",
        "  return False"
      ]
    },
    {
      "cell_type": "markdown",
      "source": [
        "Worst case is when the v is not present in l"
      ],
      "metadata": {
        "id": "y-h3ez5vOKRm"
      }
    },
    {
      "cell_type": "markdown",
      "source": [
        "Worst Case: `O(n)`"
      ],
      "metadata": {
        "id": "JdHWrw-mONkT"
      }
    },
    {
      "cell_type": "markdown",
      "source": [
        "Best Case: `O(1)`\n",
        "\n"
      ],
      "metadata": {
        "id": "FMcMA5igSSFt"
      }
    },
    {
      "cell_type": "code",
      "source": [
        "## Driver code\n",
        "\n",
        "v = 32\n",
        "array = [53,22,23,56,32,24,85]\n",
        "naivesearch(v,array)"
      ],
      "metadata": {
        "colab": {
          "base_uri": "https://localhost:8080/"
        },
        "id": "Nv-IvuPvOM9A",
        "outputId": "ac90ab5c-2aba-4d1d-cb0b-a5999acdefd6"
      },
      "execution_count": 3,
      "outputs": [
        {
          "output_type": "execute_result",
          "data": {
            "text/plain": [
              "True"
            ]
          },
          "metadata": {},
          "execution_count": 3
        }
      ]
    },
    {
      "cell_type": "markdown",
      "source": [
        "## binary search"
      ],
      "metadata": {
        "id": "OjcLCT8GUCIw"
      }
    },
    {
      "cell_type": "code",
      "source": [
        "def BINARYSEARCH(v, l):\n",
        "  if l == []:\n",
        "    return False\n",
        "\n",
        "  m = len(l)//2\n",
        "\n",
        "  if v == l[m]:\n",
        "    return True\n",
        "\n",
        "  if v < l[m]:\n",
        "    return BINARYSEARCH(v, l[:,m])\n",
        "  else:\n",
        "    return BINARYSEARCH(v, l[m+1,:])"
      ],
      "metadata": {
        "id": "JlAIxhETOVfW"
      },
      "execution_count": 2,
      "outputs": []
    },
    {
      "cell_type": "markdown",
      "source": [
        "Search in unsorted list takes O(n)"
      ],
      "metadata": {
        "id": "EuTJnyXjd-JB"
      }
    },
    {
      "cell_type": "markdown",
      "source": [
        "Search in sorted list takes O(log(n))"
      ],
      "metadata": {
        "id": "nsiGBZo4eCyC"
      }
    },
    {
      "cell_type": "code",
      "source": [],
      "metadata": {
        "id": "T8On7AZIeBC8"
      },
      "execution_count": null,
      "outputs": []
    }
  ]
}