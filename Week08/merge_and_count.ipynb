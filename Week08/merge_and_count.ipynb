{
  "nbformat": 4,
  "nbformat_minor": 0,
  "metadata": {
    "colab": {
      "provenance": []
    },
    "kernelspec": {
      "name": "python3",
      "display_name": "Python 3"
    },
    "language_info": {
      "name": "python"
    }
  },
  "cells": [
    {
      "cell_type": "markdown",
      "source": [
        "Inversions are pairs of elements in the list where the elements are out of order. More formally, if A[i] and A[j] are two elements in the merged list such that i < j and A[i] > A[j], then it is an inversion."
      ],
      "metadata": {
        "id": "ECSvqFTykvBo"
      }
    },
    {
      "cell_type": "code",
      "source": [
        "'''\n",
        "m and n: lengths of lists A and B, respectively.\n",
        "C: an empty list to store the merged and sorted list.\n",
        "i: a pointer for iterating through list A.\n",
        "j: a pointer for iterating through list B.\n",
        "k: a pointer for iterating through the merged list C.\n",
        "count: a variable to keep track of the number of inversions.\n",
        "'''"
      ],
      "metadata": {
        "colab": {
          "base_uri": "https://localhost:8080/",
          "height": 70
        },
        "id": "Rg6YNh1DlDFq",
        "outputId": "840fa11b-a9ec-4168-aaa1-93d47ecd8f65"
      },
      "execution_count": 1,
      "outputs": [
        {
          "output_type": "execute_result",
          "data": {
            "text/plain": [
              "'\\nm and n: lengths of lists A and B, respectively.\\nC: an empty list to store the merged and sorted list.\\ni: a pointer for iterating through list A.\\nj: a pointer for iterating through list B.\\nk: a pointer for iterating through the merged list C.\\ncount: a variable to keep track of the number of inversions.\\n'"
            ],
            "application/vnd.google.colaboratory.intrinsic+json": {
              "type": "string"
            }
          },
          "metadata": {},
          "execution_count": 1
        }
      ]
    },
    {
      "cell_type": "code",
      "execution_count": null,
      "metadata": {
        "id": "Q9qzfY68f185"
      },
      "outputs": [],
      "source": [
        "def mergeAndCount(A,B):\n",
        "  m, n = len(A), len(B)\n",
        "  C , i , j , k, count = [] , 0 , 0 , 0, 0, 0\n",
        "  while k < m + n:\n",
        "    if i == m:\n",
        "      C.append(B[j])\n",
        "      (j , k) = (j + 1,k + 1)\n",
        "    elif j == n:\n",
        "      C.append(A[i])\n",
        "      i, k = i + 1, k + 1\n",
        "    elif A[i] < B[j]:\n",
        "      C.append(A[i])\n",
        "      (i,k) = (i + 1 , k + 1)\n",
        "    else:\n",
        "      C.append(B[j])\n",
        "      j, k , count = j+1, k + 1, count + (m- i)\n",
        "\n",
        "  return C , count"
      ]
    }
  ]
}