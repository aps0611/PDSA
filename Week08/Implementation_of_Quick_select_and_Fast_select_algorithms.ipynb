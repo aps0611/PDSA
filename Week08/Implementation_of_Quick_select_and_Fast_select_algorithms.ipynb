{
  "nbformat": 4,
  "nbformat_minor": 0,
  "metadata": {
    "colab": {
      "provenance": []
    },
    "kernelspec": {
      "name": "python3",
      "display_name": "Python 3"
    },
    "language_info": {
      "name": "python"
    }
  },
  "cells": [
    {
      "cell_type": "markdown",
      "source": [
        "Quickselect is an efficient selection algorithm similar to Quicksort but focuses on finding a particular element rather than fully sorting the list."
      ],
      "metadata": {
        "id": "7mF5DquS9oFA"
      }
    },
    {
      "cell_type": "code",
      "metadata": {
        "id": "iQ3Z6nMMLD25"
      },
      "source": [
        "'''\n",
        "L: The list in which we want to find the k-th largest element.\n",
        "l: The left bound of the range within which the selection should happen.\n",
        "r: The right bound of the range within which the selection should happen.\n",
        "k: The position of the element we want to find (the k-th largest).\n",
        "'''\n",
        "\n",
        "\n",
        "def quickselect(L,l,r,k): # k-th largest in L[l:r]\n",
        "  if (k < 1) or (k > r-l):\n",
        "    return(None)\n",
        "\n",
        "  (pivot,lower,upper) = (L[l],l+1,l+1)\n",
        "  for i in range(l+1,r):\n",
        "    if L[i] > pivot:  # Extend upper segment\n",
        "      upper = upper + 1\n",
        "    else: # Exchange L[i] with start of upper segment\n",
        "      (L[i], L[lower]) = (L[lower], L[i])\n",
        "      (lower,upper) = (lower+1,upper+1)\n",
        "  (L[l],L[lower-1]) = (L[lower-1],L[l]) # Move pivot\n",
        "  lower = lower - 1\n",
        "\n",
        "  # Recursive calls\n",
        "  lowerlen = lower - l\n",
        "  if k <= lowerlen:\n",
        "    return(quickselect(L,l,lower,k))\n",
        "  elif k == (lowerlen + 1):\n",
        "    return(L[lower])\n",
        "  else:\n",
        "    return(quickselect(L,lower+1,r,k-(lowerlen+1)))\n"
      ],
      "execution_count": 1,
      "outputs": []
    },
    {
      "cell_type": "code",
      "metadata": {
        "colab": {
          "base_uri": "https://localhost:8080/"
        },
        "id": "stWvlM_b1egl",
        "outputId": "27d5fa12-0c6f-42c9-ed16-920f057e0d7d"
      },
      "source": [
        "from random import *\n",
        "A = [ randrange(1000) for i in range(200) ]\n",
        "print(A)"
      ],
      "execution_count": 2,
      "outputs": [
        {
          "output_type": "stream",
          "name": "stdout",
          "text": [
            "[709, 212, 988, 50, 653, 533, 665, 247, 685, 477, 830, 958, 462, 358, 650, 11, 143, 120, 621, 254, 856, 731, 42, 215, 423, 343, 402, 793, 437, 222, 474, 955, 365, 551, 662, 267, 119, 171, 524, 816, 223, 91, 230, 791, 31, 196, 56, 324, 28, 751, 372, 674, 794, 473, 733, 911, 238, 649, 53, 834, 788, 15, 908, 544, 199, 347, 575, 558, 826, 590, 749, 149, 371, 530, 444, 418, 298, 50, 918, 594, 150, 193, 365, 454, 441, 733, 230, 627, 549, 329, 71, 449, 884, 356, 747, 873, 422, 249, 142, 232, 816, 676, 895, 322, 261, 374, 830, 207, 352, 472, 770, 546, 840, 963, 387, 879, 185, 751, 683, 708, 455, 507, 572, 205, 420, 243, 352, 664, 690, 573, 532, 876, 175, 543, 397, 97, 736, 38, 474, 978, 508, 34, 126, 395, 249, 257, 39, 533, 489, 937, 482, 972, 533, 505, 254, 213, 904, 337, 622, 962, 511, 871, 393, 583, 802, 981, 402, 855, 53, 900, 891, 260, 733, 188, 739, 484, 63, 101, 866, 327, 951, 956, 456, 607, 649, 18, 982, 845, 82, 641, 277, 990, 103, 87, 812, 25, 227, 521, 813, 679]\n"
          ]
        }
      ]
    },
    {
      "cell_type": "code",
      "metadata": {
        "colab": {
          "base_uri": "https://localhost:8080/"
        },
        "id": "jFsIYmMN1jqy",
        "outputId": "8e7ea71f-4027-4c79-debb-acfa803f21f6"
      },
      "source": [
        "for i in range(0,len(A)+2):\n",
        "  print(quickselect(A,0,len(A),i))"
      ],
      "execution_count": 3,
      "outputs": [
        {
          "output_type": "stream",
          "name": "stdout",
          "text": [
            "None\n",
            "11\n",
            "15\n",
            "18\n",
            "25\n",
            "28\n",
            "31\n",
            "34\n",
            "38\n",
            "39\n",
            "42\n",
            "50\n",
            "50\n",
            "53\n",
            "53\n",
            "56\n",
            "63\n",
            "71\n",
            "82\n",
            "87\n",
            "91\n",
            "97\n",
            "101\n",
            "103\n",
            "119\n",
            "120\n",
            "126\n",
            "142\n",
            "143\n",
            "149\n",
            "150\n",
            "171\n",
            "175\n",
            "185\n",
            "188\n",
            "193\n",
            "196\n",
            "199\n",
            "205\n",
            "207\n",
            "212\n",
            "213\n",
            "215\n",
            "222\n",
            "223\n",
            "227\n",
            "230\n",
            "230\n",
            "232\n",
            "238\n",
            "243\n",
            "247\n",
            "249\n",
            "249\n",
            "254\n",
            "254\n",
            "257\n",
            "260\n",
            "261\n",
            "267\n",
            "277\n",
            "298\n",
            "322\n",
            "324\n",
            "327\n",
            "329\n",
            "337\n",
            "343\n",
            "347\n",
            "352\n",
            "352\n",
            "356\n",
            "358\n",
            "365\n",
            "365\n",
            "371\n",
            "372\n",
            "374\n",
            "387\n",
            "393\n",
            "395\n",
            "397\n",
            "402\n",
            "402\n",
            "418\n",
            "420\n",
            "422\n",
            "423\n",
            "437\n",
            "441\n",
            "444\n",
            "449\n",
            "454\n",
            "455\n",
            "456\n",
            "462\n",
            "472\n",
            "473\n",
            "474\n",
            "474\n",
            "477\n",
            "482\n",
            "484\n",
            "489\n",
            "505\n",
            "507\n",
            "508\n",
            "511\n",
            "521\n",
            "524\n",
            "530\n",
            "532\n",
            "533\n",
            "533\n",
            "533\n",
            "543\n",
            "544\n",
            "546\n",
            "549\n",
            "551\n",
            "558\n",
            "572\n",
            "573\n",
            "575\n",
            "583\n",
            "590\n",
            "594\n",
            "607\n",
            "621\n",
            "622\n",
            "627\n",
            "641\n",
            "649\n",
            "649\n",
            "650\n",
            "653\n",
            "662\n",
            "664\n",
            "665\n",
            "674\n",
            "676\n",
            "679\n",
            "683\n",
            "685\n",
            "690\n",
            "708\n",
            "709\n",
            "731\n",
            "733\n",
            "733\n",
            "733\n",
            "736\n",
            "739\n",
            "747\n",
            "749\n",
            "751\n",
            "751\n",
            "770\n",
            "788\n",
            "791\n",
            "793\n",
            "794\n",
            "802\n",
            "812\n",
            "813\n",
            "816\n",
            "816\n",
            "826\n",
            "830\n",
            "830\n",
            "834\n",
            "840\n",
            "845\n",
            "855\n",
            "856\n",
            "866\n",
            "871\n",
            "873\n",
            "876\n",
            "879\n",
            "884\n",
            "891\n",
            "895\n",
            "900\n",
            "904\n",
            "908\n",
            "911\n",
            "918\n",
            "937\n",
            "951\n",
            "955\n",
            "956\n",
            "958\n",
            "962\n",
            "963\n",
            "972\n",
            "978\n",
            "981\n",
            "982\n",
            "988\n",
            "990\n",
            "None\n"
          ]
        }
      ]
    },
    {
      "cell_type": "code",
      "metadata": {
        "id": "md2SMMbuDldB"
      },
      "source": [
        "def MoM(L): # Median of medians\n",
        "\n",
        "  if len(L) <= 5:\n",
        "    L.sort()\n",
        "    return(L[len(L)//2])\n",
        "\n",
        "  # Construct list of block medians\n",
        "  M = []\n",
        "\n",
        "  for i in range(0,len(L),5):\n",
        "    X = L[i:i+5]\n",
        "    X.sort()\n",
        "    M.append(X[len(X)//2])\n",
        "\n",
        "  return(MoM(M))"
      ],
      "execution_count": 4,
      "outputs": []
    },
    {
      "cell_type": "code",
      "metadata": {
        "colab": {
          "base_uri": "https://localhost:8080/"
        },
        "id": "2HiVILnQcuFu",
        "outputId": "3e702e2f-2e62-4d10-ac2c-78925dcc501c"
      },
      "source": [
        "from random import *\n",
        "A = [ randrange(1000) for i in range(200) ]\n",
        "print(A)"
      ],
      "execution_count": 5,
      "outputs": [
        {
          "output_type": "stream",
          "name": "stdout",
          "text": [
            "[423, 722, 674, 54, 447, 561, 287, 1, 863, 424, 60, 618, 809, 534, 350, 536, 603, 298, 102, 862, 898, 883, 886, 644, 261, 652, 118, 542, 483, 551, 662, 804, 194, 923, 531, 591, 638, 670, 170, 536, 758, 753, 549, 114, 899, 262, 805, 371, 184, 510, 734, 309, 476, 477, 157, 982, 681, 7, 545, 964, 129, 181, 553, 497, 972, 180, 303, 97, 916, 996, 287, 744, 278, 65, 616, 419, 56, 986, 910, 973, 111, 354, 709, 364, 817, 300, 803, 825, 510, 524, 16, 158, 808, 452, 10, 811, 136, 506, 828, 479, 174, 419, 671, 60, 856, 543, 458, 480, 584, 821, 724, 485, 321, 787, 293, 508, 771, 17, 929, 556, 433, 565, 927, 560, 343, 104, 510, 852, 577, 497, 858, 244, 4, 259, 379, 310, 73, 811, 287, 968, 881, 950, 842, 666, 926, 275, 160, 3, 449, 700, 148, 493, 797, 496, 231, 569, 974, 836, 408, 51, 706, 121, 469, 327, 881, 770, 830, 489, 146, 286, 5, 239, 311, 250, 428, 249, 138, 645, 730, 412, 737, 507, 489, 740, 46, 106, 137, 734, 582, 86, 164, 595, 477, 370, 543, 180, 497, 15, 248, 896]\n"
          ]
        }
      ]
    },
    {
      "cell_type": "code",
      "metadata": {
        "colab": {
          "base_uri": "https://localhost:8080/"
        },
        "id": "Y1EZusydDnG4",
        "outputId": "87604bd1-b0e0-4431-f8cc-49c03b2b6e9d"
      },
      "source": [
        "B=sorted(A)\n",
        "(B[(3*len(B))//10], B[len(B)//2], B[(7*len(B))//10], MoM(A))"
      ],
      "execution_count": 6,
      "outputs": [
        {
          "output_type": "execute_result",
          "data": {
            "text/plain": [
              "(300, 497, 674, 534)"
            ]
          },
          "metadata": {},
          "execution_count": 6
        }
      ]
    },
    {
      "cell_type": "code",
      "metadata": {
        "id": "MrdsLMPnJPaZ"
      },
      "source": [
        "import sys\n",
        "sys.setrecursionlimit(2**31-1)"
      ],
      "execution_count": 11,
      "outputs": []
    },
    {
      "cell_type": "code",
      "metadata": {
        "id": "nCM8LjFoJePe"
      },
      "source": [
        "import time\n",
        "\n",
        "class TimerError(Exception):\n",
        "    \"\"\"A custom exception used to report errors in use of Timer class\"\"\"\n",
        "\n",
        "class Timer:\n",
        "    def __init__(self):\n",
        "        self._start_time = None\n",
        "        self._elapsed_time = None\n",
        "\n",
        "    def start(self):\n",
        "        \"\"\"Start a new timer\"\"\"\n",
        "        if self._start_time is not None:\n",
        "            raise TimerError(\"Timer is running. Use .stop()\")\n",
        "        self._start_time = time.perf_counter()\n",
        "\n",
        "    def stop(self):\n",
        "        \"\"\"Save the elapsed time and re-initialize timer\"\"\"\n",
        "        if self._start_time is None:\n",
        "           raise TimerError(\"Timer is not running. Use .start()\")\n",
        "        self._elapsed_time = time.perf_counter() - self._start_time\n",
        "        self._start_time = None\n",
        "\n",
        "    def elapsed(self):\n",
        "        \"\"\"Report elapsed time\"\"\"\n",
        "        if self._elapsed_time is None:\n",
        "           raise TimerError(\"Timer has not been run yet. Use .start()\")\n",
        "        return(self._elapsed_time)\n",
        "\n",
        "    def __str__(self):\n",
        "        \"\"\"print() prints elapsed time\"\"\"\n",
        "        return(str(self._elapsed_time))"
      ],
      "execution_count": 12,
      "outputs": []
    },
    {
      "cell_type": "code",
      "metadata": {
        "colab": {
          "base_uri": "https://localhost:8080/"
        },
        "id": "yjlUIlK6JfuX",
        "outputId": "7aeec484-b2ea-4cf4-860b-87301964f12d"
      },
      "source": [
        "t = Timer()\n",
        "t.start()\n",
        "A = [i for i in range(10000)]\n",
        "print(quickselect(A,0,len(A),10000))\n",
        "t.stop()\n",
        "print(t)"
      ],
      "execution_count": 13,
      "outputs": [
        {
          "output_type": "stream",
          "name": "stdout",
          "text": [
            "9999\n",
            "8.127265612999508\n"
          ]
        }
      ]
    },
    {
      "cell_type": "code",
      "metadata": {
        "id": "D6TWqc96KAwC"
      },
      "source": [
        "def fastselect(L,l,r,k): # k-th largest in L[l:r]\n",
        "  if (k < 1) or (k > r-l):\n",
        "    return(None)\n",
        "\n",
        "  # Find MoM pivot and move to L[l]\n",
        "  pivot = MoM(L[l:r])\n",
        "  pivotpos = min([i for i in range(l,r) if L[i] == pivot])\n",
        "  (L[l],L[pivotpos]) = (L[pivotpos],L[l])\n",
        "\n",
        "  (pivot,lower,upper) = (L[l],l+1,l+1)\n",
        "  for i in range(l+1,r):\n",
        "    if L[i] > pivot:  # Extend upper segment\n",
        "      upper = upper + 1\n",
        "    else: # Exchange L[i] with start of upper segment\n",
        "      (L[i], L[lower]) = (L[lower], L[i])\n",
        "      (lower,upper) = (lower+1,upper+1)\n",
        "  (L[l],L[lower-1]) = (L[lower-1],L[l]) # Move pivot\n",
        "  lower = lower - 1\n",
        "\n",
        "  # Recursive calls\n",
        "  lowerlen = lower - l\n",
        "  if k <= lowerlen:\n",
        "    return(fastselect(L,l,lower,k))\n",
        "  elif k == (lowerlen + 1):\n",
        "    return(L[lower])\n",
        "  else:\n",
        "    return(fastselect(L,lower+1,r,k-(lowerlen+1)))"
      ],
      "execution_count": 14,
      "outputs": []
    },
    {
      "cell_type": "code",
      "metadata": {
        "colab": {
          "base_uri": "https://localhost:8080/"
        },
        "id": "g1nGEUMxKdIN",
        "outputId": "ec287741-a103-4968-c984-728468bd822f"
      },
      "source": [
        "t = Timer()\n",
        "t.start()\n",
        "A = [i for i in range(10000)]\n",
        "print(fastselect(A,0,len(A),10000))\n",
        "t.stop()\n",
        "print(t)"
      ],
      "execution_count": 15,
      "outputs": [
        {
          "output_type": "stream",
          "name": "stdout",
          "text": [
            "9999\n",
            "0.0076618180000878056\n"
          ]
        }
      ]
    },
    {
      "cell_type": "code",
      "source": [],
      "metadata": {
        "id": "VxiMcp_XPQnb"
      },
      "execution_count": 15,
      "outputs": []
    }
  ]
}