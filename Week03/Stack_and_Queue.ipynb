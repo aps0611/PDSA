{
  "nbformat": 4,
  "nbformat_minor": 0,
  "metadata": {
    "colab": {
      "provenance": []
    },
    "kernelspec": {
      "name": "python3",
      "display_name": "Python 3"
    },
    "language_info": {
      "name": "python"
    }
  },
  "cells": [
    {
      "cell_type": "markdown",
      "metadata": {
        "id": "ePWV7SbpNnaO"
      },
      "source": [
        "**Implementation of Stack using List in Python**"
      ]
    },
    {
      "cell_type": "code",
      "metadata": {
        "id": "DdjRVJnlKtQJ"
      },
      "source": [
        "stack = []\n",
        "stack.append('1')\n",
        "stack.append('2')\n",
        "stack.append('3')"
      ],
      "execution_count": 2,
      "outputs": []
    },
    {
      "cell_type": "code",
      "metadata": {
        "colab": {
          "base_uri": "https://localhost:8080/",
          "height": 35
        },
        "id": "dhvnSmIwLfsT",
        "outputId": "363d2e72-6c8a-4bd5-ae2b-f954781e67ad"
      },
      "source": [
        "stack[-1]"
      ],
      "execution_count": 3,
      "outputs": [
        {
          "output_type": "execute_result",
          "data": {
            "text/plain": [
              "'3'"
            ],
            "application/vnd.google.colaboratory.intrinsic+json": {
              "type": "string"
            }
          },
          "metadata": {},
          "execution_count": 3
        }
      ]
    },
    {
      "cell_type": "code",
      "metadata": {
        "colab": {
          "base_uri": "https://localhost:8080/"
        },
        "id": "EdzcfPBn-XRF",
        "outputId": "eb328df8-370a-4185-ad37-39752d7cee7e"
      },
      "source": [
        "stack"
      ],
      "execution_count": 4,
      "outputs": [
        {
          "output_type": "execute_result",
          "data": {
            "text/plain": [
              "['1', '2', '3']"
            ]
          },
          "metadata": {},
          "execution_count": 4
        }
      ]
    },
    {
      "cell_type": "code",
      "metadata": {
        "colab": {
          "base_uri": "https://localhost:8080/",
          "height": 35
        },
        "id": "yxoafeMuLjeP",
        "outputId": "106ac3ef-9501-42b5-fad9-eea56f517231"
      },
      "source": [
        "stack.pop() # Last in First out"
      ],
      "execution_count": 5,
      "outputs": [
        {
          "output_type": "execute_result",
          "data": {
            "text/plain": [
              "'3'"
            ],
            "application/vnd.google.colaboratory.intrinsic+json": {
              "type": "string"
            }
          },
          "metadata": {},
          "execution_count": 5
        }
      ]
    },
    {
      "cell_type": "code",
      "metadata": {
        "colab": {
          "base_uri": "https://localhost:8080/"
        },
        "id": "Km2xtuJHLmv1",
        "outputId": "82deb431-6d99-4705-ccac-552bc858c15f"
      },
      "source": [
        "stack"
      ],
      "execution_count": 6,
      "outputs": [
        {
          "output_type": "execute_result",
          "data": {
            "text/plain": [
              "['1', '2']"
            ]
          },
          "metadata": {},
          "execution_count": 6
        }
      ]
    },
    {
      "cell_type": "markdown",
      "metadata": {
        "id": "D2d6dVoRNs6y"
      },
      "source": [
        "**Implementation of Stack Using collections.deque**"
      ]
    },
    {
      "cell_type": "code",
      "metadata": {
        "id": "P8nmXXijLojN"
      },
      "source": [
        "from collections import deque\n",
        "stack = deque()"
      ],
      "execution_count": 7,
      "outputs": []
    },
    {
      "cell_type": "code",
      "metadata": {
        "id": "peZExRtmNWRH"
      },
      "source": [
        "stack.append('https://leetcode.com/')\n",
        "stack.append('https://leetcode.com/problemset/all/')\n",
        "stack.append('https://leetcode.com/problems/find-first-and-last-position-of-element-in-sorted-array/')"
      ],
      "execution_count": 8,
      "outputs": []
    },
    {
      "cell_type": "code",
      "metadata": {
        "colab": {
          "base_uri": "https://localhost:8080/"
        },
        "id": "Y_TTzkePNij-",
        "outputId": "fa9703fe-1a20-4f49-bec4-a9cac8edc773"
      },
      "source": [
        "stack"
      ],
      "execution_count": 9,
      "outputs": [
        {
          "output_type": "execute_result",
          "data": {
            "text/plain": [
              "deque(['https://leetcode.com/',\n",
              "       'https://leetcode.com/problemset/all/',\n",
              "       'https://leetcode.com/problems/find-first-and-last-position-of-element-in-sorted-array/'])"
            ]
          },
          "metadata": {},
          "execution_count": 9
        }
      ]
    },
    {
      "cell_type": "code",
      "metadata": {
        "colab": {
          "base_uri": "https://localhost:8080/",
          "height": 35
        },
        "id": "p67x46aWNjYe",
        "outputId": "9594b132-d624-4bc9-f37e-828316a7121a"
      },
      "source": [
        "stack.pop()"
      ],
      "execution_count": 10,
      "outputs": [
        {
          "output_type": "execute_result",
          "data": {
            "text/plain": [
              "'https://leetcode.com/problems/find-first-and-last-position-of-element-in-sorted-array/'"
            ],
            "application/vnd.google.colaboratory.intrinsic+json": {
              "type": "string"
            }
          },
          "metadata": {},
          "execution_count": 10
        }
      ]
    },
    {
      "cell_type": "code",
      "metadata": {
        "colab": {
          "base_uri": "https://localhost:8080/"
        },
        "id": "2vNBPZWfN09L",
        "outputId": "c355722a-fb61-40a0-c5fa-190c56b18f55"
      },
      "source": [
        "stack"
      ],
      "execution_count": 11,
      "outputs": [
        {
          "output_type": "execute_result",
          "data": {
            "text/plain": [
              "deque(['https://leetcode.com/', 'https://leetcode.com/problemset/all/'])"
            ]
          },
          "metadata": {},
          "execution_count": 11
        }
      ]
    },
    {
      "cell_type": "code",
      "metadata": {
        "colab": {
          "base_uri": "https://localhost:8080/"
        },
        "id": "ORwLqLIWOGva",
        "outputId": "a96eb96d-3f65-4ecc-9b95-3596a02e4ba4"
      },
      "source": [
        "stack.insert(2,'https://leetcode.com/problems/find-first-and-last-position-of-element-in-sorted-array/')\n",
        "stack"
      ],
      "execution_count": 12,
      "outputs": [
        {
          "output_type": "execute_result",
          "data": {
            "text/plain": [
              "deque(['https://leetcode.com/',\n",
              "       'https://leetcode.com/problemset/all/',\n",
              "       'https://leetcode.com/problems/find-first-and-last-position-of-element-in-sorted-array/'])"
            ]
          },
          "metadata": {},
          "execution_count": 12
        }
      ]
    },
    {
      "cell_type": "markdown",
      "metadata": {
        "id": "piH8NO75Pbel"
      },
      "source": [
        "**Implementation of Queue using List in Python**"
      ]
    },
    {
      "cell_type": "code",
      "metadata": {
        "id": "vl-jhEb1PgmG"
      },
      "source": [
        "queue = []"
      ],
      "execution_count": 13,
      "outputs": []
    },
    {
      "cell_type": "code",
      "metadata": {
        "id": "OwyjV4hMl0IR"
      },
      "source": [
        "queue.insert(0, 290)\n",
        "queue.insert(0, 230)\n",
        "queue.insert(0, 983)"
      ],
      "execution_count": 14,
      "outputs": []
    },
    {
      "cell_type": "code",
      "metadata": {
        "colab": {
          "base_uri": "https://localhost:8080/"
        },
        "id": "LPAIQnh2l8j7",
        "outputId": "6809944a-f6cb-4a27-d00d-4844efec80e7"
      },
      "source": [
        "queue"
      ],
      "execution_count": 15,
      "outputs": [
        {
          "output_type": "execute_result",
          "data": {
            "text/plain": [
              "[983, 230, 290]"
            ]
          },
          "metadata": {},
          "execution_count": 15
        }
      ]
    },
    {
      "cell_type": "code",
      "metadata": {
        "colab": {
          "base_uri": "https://localhost:8080/"
        },
        "id": "saQSYqr0l_xj",
        "outputId": "8b1cd360-e966-4573-9243-72fd24a58ec5"
      },
      "source": [
        "queue.pop()"
      ],
      "execution_count": 16,
      "outputs": [
        {
          "output_type": "execute_result",
          "data": {
            "text/plain": [
              "290"
            ]
          },
          "metadata": {},
          "execution_count": 16
        }
      ]
    },
    {
      "cell_type": "code",
      "metadata": {
        "colab": {
          "base_uri": "https://localhost:8080/"
        },
        "id": "Vk2NLPz0mCBP",
        "outputId": "8a7c50bb-c106-453d-b935-5e1c3bbe7586"
      },
      "source": [
        "queue"
      ],
      "execution_count": 17,
      "outputs": [
        {
          "output_type": "execute_result",
          "data": {
            "text/plain": [
              "[983, 230]"
            ]
          },
          "metadata": {},
          "execution_count": 17
        }
      ]
    },
    {
      "cell_type": "markdown",
      "metadata": {
        "id": "AnU5Od1yPhrV"
      },
      "source": [
        "**Implementation of Queue using collections.deque**"
      ]
    },
    {
      "cell_type": "code",
      "metadata": {
        "id": "JOR6mNwhPnLW"
      },
      "source": [
        "from collections import deque\n",
        "queue = deque()"
      ],
      "execution_count": 18,
      "outputs": []
    },
    {
      "cell_type": "code",
      "metadata": {
        "id": "F07aMCZKmVAX"
      },
      "source": [
        "queue.appendleft(290)\n",
        "queue.appendleft(230)\n",
        "queue.appendleft(983)"
      ],
      "execution_count": 19,
      "outputs": []
    },
    {
      "cell_type": "code",
      "metadata": {
        "colab": {
          "base_uri": "https://localhost:8080/"
        },
        "id": "FEd0jc2Bmd_m",
        "outputId": "944adccd-7938-4646-d691-fdda94f5b5d7"
      },
      "source": [
        "queue"
      ],
      "execution_count": 20,
      "outputs": [
        {
          "output_type": "execute_result",
          "data": {
            "text/plain": [
              "deque([983, 230, 290])"
            ]
          },
          "metadata": {},
          "execution_count": 20
        }
      ]
    },
    {
      "cell_type": "code",
      "metadata": {
        "colab": {
          "base_uri": "https://localhost:8080/"
        },
        "id": "UUniv4Jcme6F",
        "outputId": "58914f5d-8520-4903-d251-ecb5a5ecc604"
      },
      "source": [
        "queue.pop()"
      ],
      "execution_count": 21,
      "outputs": [
        {
          "output_type": "execute_result",
          "data": {
            "text/plain": [
              "290"
            ]
          },
          "metadata": {},
          "execution_count": 21
        }
      ]
    },
    {
      "cell_type": "code",
      "source": [],
      "metadata": {
        "id": "xHS1L7b9zemc"
      },
      "execution_count": null,
      "outputs": []
    }
  ]
}