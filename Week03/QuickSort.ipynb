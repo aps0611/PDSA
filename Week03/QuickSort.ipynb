{
  "nbformat": 4,
  "nbformat_minor": 0,
  "metadata": {
    "colab": {
      "provenance": []
    },
    "kernelspec": {
      "name": "python3",
      "display_name": "Python 3"
    },
    "language_info": {
      "name": "python"
    }
  },
  "cells": [
    {
      "cell_type": "code",
      "metadata": {
        "id": "v8uA-6GnWKCS"
      },
      "source": [
        "def partition(L,low,high): # L = array,low = lower index of array, high = higher index of array\n",
        "  # select the first element as pivot\n",
        "  pivot = L[low]\n",
        "  i = low # moving index\n",
        "  for j in range(low+1,high+1):\n",
        "    if L[j]<=pivot:\n",
        "      i+=1\n",
        "      L[i],L[j]=L[j],L[i]\n",
        "  L[i],L[low]= L[low],L[i]\n",
        "  return i"
      ],
      "execution_count": 9,
      "outputs": []
    },
    {
      "cell_type": "code",
      "metadata": {
        "colab": {
          "base_uri": "https://localhost:8080/"
        },
        "id": "mnZv9dh5Xb09",
        "outputId": "061e2f38-e051-452d-faad-932189d4686f"
      },
      "source": [
        "partition([50,70,80,30,40,88,19,27,69],0,8)"
      ],
      "execution_count": 10,
      "outputs": [
        {
          "output_type": "execute_result",
          "data": {
            "text/plain": [
              "4"
            ]
          },
          "metadata": {},
          "execution_count": 10
        }
      ]
    },
    {
      "cell_type": "code",
      "metadata": {
        "id": "Rts3HZ_SZO6S"
      },
      "source": [
        "def quickSort(L,low,high): # array = L, low = lower index of array, high = higher index of array\n",
        "  if len(L)==1:# small problem  Time complexity : O(1)\n",
        "    return L\n",
        "  if low<high:# if length of the array is not one\n",
        "      m = partition(L,low,high) #Time complexity O(n),where n = high-low+1\n",
        "      quickSort(L,low,m-1)      #T(m-low),m = partition index,left partition recursive call\n",
        "      quickSort(L,m+1,high)     #T(high-m),m = partition index,right partition recursive call"
      ],
      "execution_count": 11,
      "outputs": []
    },
    {
      "cell_type": "code",
      "metadata": {
        "id": "Fvyds6n6kYOZ"
      },
      "source": [
        "import time"
      ],
      "execution_count": 12,
      "outputs": []
    },
    {
      "cell_type": "code",
      "metadata": {
        "colab": {
          "base_uri": "https://localhost:8080/"
        },
        "id": "DWFlsZo9fP8c",
        "outputId": "a6921744-0e43-48da-b8a1-b29d2ac0c63b"
      },
      "source": [
        "start = time.time()\n",
        "arr=[50,70,80,30,40,88,19,27,69]\n",
        "quickSort(arr,0,8)\n",
        "end = time.time()\n",
        "print(arr)\n",
        "print(\"Time taken : \",(end-start)*1000)"
      ],
      "execution_count": 13,
      "outputs": [
        {
          "output_type": "stream",
          "name": "stdout",
          "text": [
            "[19, 27, 30, 40, 50, 69, 70, 80, 88]\n",
            "Time taken :  0.14710426330566406\n"
          ]
        }
      ]
    },
    {
      "cell_type": "code",
      "metadata": {
        "colab": {
          "base_uri": "https://localhost:8080/"
        },
        "id": "IWE5L-BXfbH2",
        "outputId": "b9f91cb6-45f4-47db-aecf-2ecec272ad09"
      },
      "source": [
        "#case I asceding order of array of 9 elements\n",
        "start = time.time()\n",
        "arr1=[1,2,3,4,5,6,7,8,9]\n",
        "quickSort(arr1,0,8)\n",
        "end=time.time()\n",
        "print(arr1)\n",
        "print(\"Time Taken: \",(end-start)*1000)"
      ],
      "execution_count": 14,
      "outputs": [
        {
          "output_type": "stream",
          "name": "stdout",
          "text": [
            "[1, 2, 3, 4, 5, 6, 7, 8, 9]\n",
            "Time Taken:  0.16927719116210938\n"
          ]
        }
      ]
    },
    {
      "cell_type": "code",
      "metadata": {
        "colab": {
          "base_uri": "https://localhost:8080/"
        },
        "id": "nquEjP8ymQQV",
        "outputId": "a8359da5-090c-4f36-d56d-c457e75004c0"
      },
      "source": [
        "#case II descending order of array of 9 elements\n",
        "start = time.time()\n",
        "arr2=[9,8,7,6,5,4,3,2,1]\n",
        "quickSort(arr2,0,8)\n",
        "end=time.time()\n",
        "print(arr2)\n",
        "print(\"Time taken: \",(end-start)*1000)"
      ],
      "execution_count": 15,
      "outputs": [
        {
          "output_type": "stream",
          "name": "stdout",
          "text": [
            "[1, 2, 3, 4, 5, 6, 7, 8, 9]\n",
            "Time taken:  0.17595291137695312\n"
          ]
        }
      ]
    },
    {
      "cell_type": "code",
      "metadata": {
        "colab": {
          "base_uri": "https://localhost:8080/"
        },
        "id": "cPnhJsK9nB7G",
        "outputId": "6ccc6bef-7736-444e-d3bc-184cef30107a"
      },
      "source": [
        "#caseIII identical element array of 9 elements\n",
        "start= time.time()\n",
        "arr3=[9,9,9,9,9,9,9,9,9]\n",
        "quickSort(arr3,0,8)\n",
        "end=time.time()\n",
        "print(arr3)\n",
        "print(\"Time taken: \",(end-start)*1000)"
      ],
      "execution_count": 16,
      "outputs": [
        {
          "output_type": "stream",
          "name": "stdout",
          "text": [
            "[9, 9, 9, 9, 9, 9, 9, 9, 9]\n",
            "Time taken:  0.16498565673828125\n"
          ]
        }
      ]
    },
    {
      "cell_type": "markdown",
      "metadata": {
        "id": "dTdpyC4XqTaV"
      },
      "source": [
        "###Identical Case\n",
        "\n",
        " *9*(italic),9,9,9,9,9,9,9,**9**(bold)- elements\n",
        "\n",
        " 0,1,2,3,4,5,6,7,8-index\n",
        "\n",
        "Italic  First 9 is the pivot and bold 9 is the last element,moving index =0\n",
        "\n",
        "In partition algorthim,\n",
        "first pivot 9 index 0 compares with  index(1) 9 as it is <=9\n",
        "it will swap with moving index +=1 which is 1 that means it will swap with itself,likewise every element will swap it with istelf untill end\n",
        "\n",
        "at last we swap pivot with moving index (8 in this case) then array will become\n",
        "\n",
        "*9*(italic),9,9,9,9,9,9,9,**9**(bold)#before parition\n",
        "\n",
        "**9**(bold),9,9,9,9,9,9,9,*9*(italic)#after partition\n",
        "\n",
        "partition will return index 8\n",
        "\n",
        "so left quicksort recursive call  will take 7 element array and\n",
        "and after each iteration it will reduce by 1\n",
        "\n",
        "right recursive will never run as high < low in right recursive call\n",
        "\n",
        "So Recurrence relation is T(n) = T(n-1) +n,So time complexity O(n^2)"
      ]
    },
    {
      "cell_type": "markdown",
      "metadata": {
        "id": "3dysyWzSusS1"
      },
      "source": [
        "###descending case\n",
        "\n",
        "9,8,7,6,5,4,3,2,1 Before partition function\n",
        "\n",
        "1,8,7,6,5,4,3,2,9 After partition function\n",
        "\n",
        "Same as Identical case in partition all elements will swap with themselves\n",
        "and at last pivot swapped with last element\n",
        "\n",
        "and left quicksort recursive call will take [1,8,7,6,5,4,3,2]\n",
        "and right quicksort recursive call won't run as low >high\n",
        "\n",
        "In first iteration  \n",
        "\n",
        "1,8,7,6,5,4,3,2 # before partition function\n",
        "\n",
        "2,8,7,6,5,4,3,1#after parition function\n",
        "\n",
        "so again  left recursive will take n-1 array\n",
        "\n",
        " right recursive won't run as high< low in recursive call\n",
        "\n",
        "Similar to identical.\n",
        "\n",
        "So time complexity T(n)=T(n-1)+n, O(n^2)\n",
        "\n"
      ]
    },
    {
      "cell_type": "markdown",
      "metadata": {
        "id": "Dl2q4Yz9wtH1"
      },
      "source": [
        "###ascending case\n",
        "\n",
        "1,2,3,4,5,6,7,8,9 Before partition function\n",
        "\n",
        "1,2,3,4,5,6,7,8,9 after partiion function\n",
        "\n",
        "both are same as now swaps take place in loop and end of loop\n",
        "pivot will swap with moving index = 0 that is same as pivot because\n",
        "it isn't moved in this case\n",
        "\n",
        "partition function will return  index 0\n",
        "\n",
        "now left recursive call will never run as low>high(m-1 which is -1)\n",
        "\n",
        "and right recursive call will take [2,3,4,5,6,7,8,9]\n",
        "\n",
        "for each recursive call array length is reduced by 1\n",
        "\n",
        "so time complexity, T(n) = T(n-1) + n, O(n^2)\n",
        "\n"
      ]
    },
    {
      "cell_type": "code",
      "metadata": {
        "id": "9LK0JYLQpUss"
      },
      "source": [],
      "execution_count": null,
      "outputs": []
    }
  ]
}