{
  "cells": [
    {
      "cell_type": "code",
      "execution_count": 6,
      "metadata": {
        "id": "_Wc3Dy7Xtx5H"
      },
      "outputs": [],
      "source": [
        "class Queue:\n",
        "    def __init__(self):\n",
        "        self.queue = []\n",
        "\n",
        "    def addq(self,v):\n",
        "        self.queue.append(v)\n",
        "\n",
        "    def delq(self):\n",
        "        v = None\n",
        "        if not self.isempty():\n",
        "            v = self.queue[0]\n",
        "            self.queue = self.queue[1:]\n",
        "        return(v)\n",
        "\n",
        "    def isempty(self):\n",
        "        return(self.queue == [])\n",
        "\n",
        "    def __str__(self):\n",
        "        return(str(self.queue))"
      ],
      "id": "_Wc3Dy7Xtx5H"
    },
    {
      "cell_type": "code",
      "execution_count": 7,
      "metadata": {
        "id": "7bYmejfPtx5K"
      },
      "outputs": [],
      "source": [
        "# Dijkstra example\n",
        "dedges = [(0,1,10),(0,2,80),(1,2,6),(1,4,20),(2,3,70),(4,5,50),(4,6,5),(5,6,10)]\n",
        "edges = dedges + [(j,i,w) for (i,j,w) in dedges]"
      ],
      "id": "7bYmejfPtx5K"
    },
    {
      "cell_type": "code",
      "execution_count": 7,
      "metadata": {
        "id": "m8mCIMjwtx5L"
      },
      "outputs": [],
      "source": [],
      "id": "m8mCIMjwtx5L"
    },
    {
      "cell_type": "code",
      "execution_count": 8,
      "metadata": {
        "id": "yaYx-fartx5L",
        "outputId": "bcb5f5b5-8c37-4178-a02b-5de1764c7568",
        "colab": {
          "base_uri": "https://localhost:8080/"
        }
      },
      "outputs": [
        {
          "output_type": "stream",
          "name": "stdout",
          "text": [
            "[[[ 0.  0.]\n",
            "  [ 1. 10.]\n",
            "  [ 1. 80.]\n",
            "  [ 0.  0.]\n",
            "  [ 0.  0.]\n",
            "  [ 0.  0.]\n",
            "  [ 0.  0.]]\n",
            "\n",
            " [[ 1. 10.]\n",
            "  [ 0.  0.]\n",
            "  [ 1.  6.]\n",
            "  [ 0.  0.]\n",
            "  [ 1. 20.]\n",
            "  [ 0.  0.]\n",
            "  [ 0.  0.]]\n",
            "\n",
            " [[ 1. 80.]\n",
            "  [ 1.  6.]\n",
            "  [ 0.  0.]\n",
            "  [ 1. 70.]\n",
            "  [ 0.  0.]\n",
            "  [ 0.  0.]\n",
            "  [ 0.  0.]]\n",
            "\n",
            " [[ 0.  0.]\n",
            "  [ 0.  0.]\n",
            "  [ 1. 70.]\n",
            "  [ 0.  0.]\n",
            "  [ 0.  0.]\n",
            "  [ 0.  0.]\n",
            "  [ 0.  0.]]\n",
            "\n",
            " [[ 0.  0.]\n",
            "  [ 1. 20.]\n",
            "  [ 0.  0.]\n",
            "  [ 0.  0.]\n",
            "  [ 0.  0.]\n",
            "  [ 1. 50.]\n",
            "  [ 1.  5.]]\n",
            "\n",
            " [[ 0.  0.]\n",
            "  [ 0.  0.]\n",
            "  [ 0.  0.]\n",
            "  [ 0.  0.]\n",
            "  [ 1. 50.]\n",
            "  [ 0.  0.]\n",
            "  [ 1. 10.]]\n",
            "\n",
            " [[ 0.  0.]\n",
            "  [ 0.  0.]\n",
            "  [ 0.  0.]\n",
            "  [ 0.  0.]\n",
            "  [ 1.  5.]\n",
            "  [ 1. 10.]\n",
            "  [ 0.  0.]]]\n"
          ]
        }
      ],
      "source": [
        "size = 7\n",
        "import numpy as np\n",
        "W = np.zeros(shape=(size,size,2))\n",
        "for (i,j,w) in edges:\n",
        "    W[i,j,0] = 1\n",
        "    W[i,j,1] = w\n",
        "print(W)"
      ],
      "id": "yaYx-fartx5L"
    },
    {
      "cell_type": "code",
      "execution_count": 9,
      "metadata": {
        "id": "T_4mM8o9tx5N",
        "outputId": "30f40275-7b97-42b5-8d1f-b0509f7c343d",
        "colab": {
          "base_uri": "https://localhost:8080/"
        }
      },
      "outputs": [
        {
          "output_type": "execute_result",
          "data": {
            "text/plain": [
              "80.0"
            ]
          },
          "metadata": {},
          "execution_count": 9
        }
      ],
      "source": [
        "np.max(W)"
      ],
      "id": "T_4mM8o9tx5N"
    },
    {
      "cell_type": "code",
      "execution_count": 10,
      "metadata": {
        "id": "2FVXqi4itx5N"
      },
      "outputs": [],
      "source": [
        "def dijkstra(WMat,s):\n",
        "    (rows,cols,x) = WMat.shape\n",
        "    infinity = np.max(WMat)*rows+1\n",
        "    (visited,distance) = ({},{})\n",
        "    for v in range(rows):\n",
        "        (visited[v],distance[v]) = (False,infinity)\n",
        "\n",
        "    distance[s] = 0\n",
        "\n",
        "    for u in range(rows):\n",
        "        nextd = min([distance[v] for v in range(rows)\n",
        "                        if not visited[v]])\n",
        "        nextvlist = [v for v in range(rows)\n",
        "                        if (not visited[v]) and\n",
        "                            distance[v] == nextd]\n",
        "        if nextvlist == []:\n",
        "            break\n",
        "        nextv = min(nextvlist)\n",
        "\n",
        "        visited[nextv] = True\n",
        "        for v in range(cols):\n",
        "            if WMat[nextv,v,0] == 1 and (not visited[v]):\n",
        "                distance[v] = min(distance[v],distance[nextv]\n",
        "                                              +WMat[nextv,v,1])\n",
        "    return(distance)"
      ],
      "id": "2FVXqi4itx5N"
    },
    {
      "cell_type": "code",
      "execution_count": 11,
      "metadata": {
        "id": "0Ce4E1OItx5P",
        "outputId": "de739787-9f15-49e0-ac03-e07a392b00d9",
        "colab": {
          "base_uri": "https://localhost:8080/"
        }
      },
      "outputs": [
        {
          "output_type": "execute_result",
          "data": {
            "text/plain": [
              "{0: 0, 1: 10.0, 2: 16.0, 3: 86.0, 4: 30.0, 5: 45.0, 6: 35.0}"
            ]
          },
          "metadata": {},
          "execution_count": 11
        }
      ],
      "source": [
        "dijkstra(W,0)"
      ],
      "id": "0Ce4E1OItx5P"
    },
    {
      "cell_type": "code",
      "execution_count": 23,
      "metadata": {
        "id": "EqDngzIutx5T",
        "colab": {
          "base_uri": "https://localhost:8080/",
          "height": 140
        },
        "outputId": "b32ab4de-1720-4b79-8b62-7c8bb0781859"
      },
      "outputs": [
        {
          "output_type": "error",
          "ename": "SyntaxError",
          "evalue": "ignored",
          "traceback": [
            "\u001b[0;36m  File \u001b[0;32m\"<ipython-input-23-b213e4059df9>\"\u001b[0;36m, line \u001b[0;32m2\u001b[0m\n\u001b[0;31m    infinity = 1 + len(WList.keys())*\u001b[0m\n\u001b[0m                                     ^\u001b[0m\n\u001b[0;31mSyntaxError\u001b[0m\u001b[0;31m:\u001b[0m invalid syntax\n"
          ]
        }
      ],
      "source": [
        "def dijkstralist(WList,s):\n",
        "    infinity = 1 + len(WList.keys())*\n",
        "                    max([d for u in WList.keys()\n",
        "                           for (v,d) in WList[u]])\n",
        "    (visited,distance) = ({},{})\n",
        "    for v in WList.keys():\n",
        "        (visited[v],distance[v]) = (False,infinity)\n",
        "\n",
        "    distance[s] = 0\n",
        "\n",
        "    for u in WList.keys():\n",
        "        nextd = min([distance[v] for v in WList.keys()\n",
        "                        if not visited[v]])\n",
        "        nextvlist = [v for v in WList.keys()\n",
        "                        if (not visited[v]) and\n",
        "                            distance[v] == nextd]\n",
        "        if nextvlist == []:\n",
        "            break\n",
        "        nextv = min(nextvlist)\n",
        "\n",
        "        visited[nextv] = True\n",
        "        for (v,d) in WList[nextv]:\n",
        "            if not visited[v]:\n",
        "                distance[v] = min(distance[v],distance[nextv]+d)\n",
        "    return(distance)"
      ],
      "id": "EqDngzIutx5T"
    },
    {
      "cell_type": "code",
      "execution_count": null,
      "metadata": {
        "id": "5QvGnJFWtx5U"
      },
      "outputs": [],
      "source": [
        "size = 7\n",
        "WL = {}\n",
        "for i in range(size):\n",
        "    WL[i] = []\n",
        "for (i,j,d) in edges:\n",
        "    WL[i].append((j,d))"
      ],
      "id": "5QvGnJFWtx5U"
    },
    {
      "cell_type": "code",
      "execution_count": null,
      "metadata": {
        "id": "ix6SZh5ctx5V"
      },
      "outputs": [],
      "source": [
        "dijkstralist(WL,0)"
      ],
      "id": "ix6SZh5ctx5V"
    },
    {
      "cell_type": "code",
      "execution_count": null,
      "metadata": {
        "id": "Pd9pOGjztx5V"
      },
      "outputs": [],
      "source": [
        "def bellmanford(WMat,s):\n",
        "    (rows,cols,x) = WMat.shape\n",
        "    infinity = np.max(WMat)*rows+1\n",
        "    distance = {}\n",
        "    for v in range(rows):\n",
        "        distance[v] = infinity\n",
        "\n",
        "    distance[s] = 0\n",
        "\n",
        "    for i in range(rows):\n",
        "        for u in range(rows):\n",
        "            for v in range(cols):\n",
        "                if WMat[u,v,0] == 1:\n",
        "                    distance[v] = min(distance[v], distance[u]\n",
        "                                                   + WMat[u,v,1])\n",
        "    return(distance)"
      ],
      "id": "Pd9pOGjztx5V"
    },
    {
      "cell_type": "code",
      "execution_count": 13,
      "metadata": {
        "id": "_aIZtmJdtx5W"
      },
      "outputs": [],
      "source": [
        "# Bellman Ford Example\n",
        "edges = [(0,1,10),(0,7,8),(1,5,2),(2,1,1),(2,3,1),(3,4,3),(4,5,-1),(5,2,-2),(6,1,-4),(6,5,-1),(7,6,1)]"
      ],
      "id": "_aIZtmJdtx5W"
    },
    {
      "cell_type": "code",
      "execution_count": 14,
      "metadata": {
        "id": "Z5YSFcaYtx5X",
        "outputId": "c7dd1068-9786-4eac-8866-832d2dd5aab7",
        "colab": {
          "base_uri": "https://localhost:8080/"
        }
      },
      "outputs": [
        {
          "output_type": "stream",
          "name": "stdout",
          "text": [
            "[[[ 0.  0.]\n",
            "  [ 1. 10.]\n",
            "  [ 0.  0.]\n",
            "  [ 0.  0.]\n",
            "  [ 0.  0.]\n",
            "  [ 0.  0.]\n",
            "  [ 0.  0.]\n",
            "  [ 1.  8.]]\n",
            "\n",
            " [[ 0.  0.]\n",
            "  [ 0.  0.]\n",
            "  [ 0.  0.]\n",
            "  [ 0.  0.]\n",
            "  [ 0.  0.]\n",
            "  [ 1.  2.]\n",
            "  [ 0.  0.]\n",
            "  [ 0.  0.]]\n",
            "\n",
            " [[ 0.  0.]\n",
            "  [ 1.  1.]\n",
            "  [ 0.  0.]\n",
            "  [ 1.  1.]\n",
            "  [ 0.  0.]\n",
            "  [ 0.  0.]\n",
            "  [ 0.  0.]\n",
            "  [ 0.  0.]]\n",
            "\n",
            " [[ 0.  0.]\n",
            "  [ 0.  0.]\n",
            "  [ 0.  0.]\n",
            "  [ 0.  0.]\n",
            "  [ 1.  3.]\n",
            "  [ 0.  0.]\n",
            "  [ 0.  0.]\n",
            "  [ 0.  0.]]\n",
            "\n",
            " [[ 0.  0.]\n",
            "  [ 0.  0.]\n",
            "  [ 0.  0.]\n",
            "  [ 0.  0.]\n",
            "  [ 0.  0.]\n",
            "  [ 1. -1.]\n",
            "  [ 0.  0.]\n",
            "  [ 0.  0.]]\n",
            "\n",
            " [[ 0.  0.]\n",
            "  [ 0.  0.]\n",
            "  [ 1. -2.]\n",
            "  [ 0.  0.]\n",
            "  [ 0.  0.]\n",
            "  [ 0.  0.]\n",
            "  [ 0.  0.]\n",
            "  [ 0.  0.]]\n",
            "\n",
            " [[ 0.  0.]\n",
            "  [ 1. -4.]\n",
            "  [ 0.  0.]\n",
            "  [ 0.  0.]\n",
            "  [ 0.  0.]\n",
            "  [ 1. -1.]\n",
            "  [ 0.  0.]\n",
            "  [ 0.  0.]]\n",
            "\n",
            " [[ 0.  0.]\n",
            "  [ 0.  0.]\n",
            "  [ 0.  0.]\n",
            "  [ 0.  0.]\n",
            "  [ 0.  0.]\n",
            "  [ 0.  0.]\n",
            "  [ 1.  1.]\n",
            "  [ 0.  0.]]]\n"
          ]
        }
      ],
      "source": [
        "size = 8\n",
        "import numpy as np\n",
        "W = np.zeros(shape=(size,size,2))\n",
        "for (i,j,w) in edges:\n",
        "    W[i,j,0] = 1\n",
        "    W[i,j,1] = w\n",
        "print(W)"
      ],
      "id": "Z5YSFcaYtx5X"
    },
    {
      "cell_type": "code",
      "execution_count": 15,
      "metadata": {
        "id": "UAsTDPCEtx5X",
        "outputId": "d802db58-9608-43af-a148-d2d65e59e84d",
        "colab": {
          "base_uri": "https://localhost:8080/",
          "height": 175
        }
      },
      "outputs": [
        {
          "output_type": "error",
          "ename": "NameError",
          "evalue": "ignored",
          "traceback": [
            "\u001b[0;31m---------------------------------------------------------------------------\u001b[0m",
            "\u001b[0;31mNameError\u001b[0m                                 Traceback (most recent call last)",
            "\u001b[0;32m<ipython-input-15-65d3e9bbafa5>\u001b[0m in \u001b[0;36m<cell line: 1>\u001b[0;34m()\u001b[0m\n\u001b[0;32m----> 1\u001b[0;31m \u001b[0mbellmanford\u001b[0m\u001b[0;34m(\u001b[0m\u001b[0mW\u001b[0m\u001b[0;34m,\u001b[0m\u001b[0;36m0\u001b[0m\u001b[0;34m)\u001b[0m\u001b[0;34m\u001b[0m\u001b[0;34m\u001b[0m\u001b[0m\n\u001b[0m",
            "\u001b[0;31mNameError\u001b[0m: name 'bellmanford' is not defined"
          ]
        }
      ],
      "source": [
        "bellmanford(W,0)"
      ],
      "id": "UAsTDPCEtx5X"
    },
    {
      "cell_type": "code",
      "execution_count": null,
      "metadata": {
        "id": "RTZhzA3Ctx5Y"
      },
      "outputs": [],
      "source": [
        "def bellmanfordlist(WList,s):\n",
        "    infinity = 1 + len(WList.keys())*\n",
        "                    max([d for u in WList.keys()\n",
        "    distance = {}\n",
        "    for v in WList.keys():\n",
        "        distance[v] = infinity\n",
        "\n",
        "    distance[s] = 0\n",
        "\n",
        "    for i in WList.keys():\n",
        "        for u in WList.keys():\n",
        "            for (v,d) in WList[u]:\n",
        "                distance[v] = min(distance[v], distance[u] + d)\n",
        "    return(distance)"
      ],
      "id": "RTZhzA3Ctx5Y"
    },
    {
      "cell_type": "code",
      "execution_count": null,
      "metadata": {
        "id": "YQrcSsootx5Y"
      },
      "outputs": [],
      "source": [
        "size = 8\n",
        "WL = {}\n",
        "for i in range(size):\n",
        "    WL[i] = []\n",
        "for (i,j,d) in edges:\n",
        "    WL[i].append((j,d))"
      ],
      "id": "YQrcSsootx5Y"
    },
    {
      "cell_type": "code",
      "execution_count": 16,
      "metadata": {
        "id": "3smZF4jztx5Z",
        "outputId": "12f8f2f9-d7cd-47e2-bcbf-e669008e9d59",
        "colab": {
          "base_uri": "https://localhost:8080/",
          "height": 175
        }
      },
      "outputs": [
        {
          "output_type": "error",
          "ename": "NameError",
          "evalue": "ignored",
          "traceback": [
            "\u001b[0;31m---------------------------------------------------------------------------\u001b[0m",
            "\u001b[0;31mNameError\u001b[0m                                 Traceback (most recent call last)",
            "\u001b[0;32m<ipython-input-16-76472b46c6d5>\u001b[0m in \u001b[0;36m<cell line: 1>\u001b[0;34m()\u001b[0m\n\u001b[0;32m----> 1\u001b[0;31m \u001b[0mbellmanfordlist\u001b[0m\u001b[0;34m(\u001b[0m\u001b[0mWL\u001b[0m\u001b[0;34m,\u001b[0m\u001b[0;36m0\u001b[0m\u001b[0;34m)\u001b[0m\u001b[0;34m\u001b[0m\u001b[0;34m\u001b[0m\u001b[0m\n\u001b[0m",
            "\u001b[0;31mNameError\u001b[0m: name 'bellmanfordlist' is not defined"
          ]
        }
      ],
      "source": [
        "bellmanfordlist(WL,0)"
      ],
      "id": "3smZF4jztx5Z"
    },
    {
      "cell_type": "code",
      "execution_count": null,
      "metadata": {
        "id": "zNfM8CHrtx5Z"
      },
      "outputs": [],
      "source": [
        "def floydwarshall(WMat):\n",
        "    (rows,cols,x) = WMat.shape\n",
        "    infinity = np.max(WMat)*rows*rows+1\n",
        "\n",
        "    SP = np.zeros(shape=(rows,cols,cols+1))\n",
        "    for i in range(rows):\n",
        "        for j in range(cols):\n",
        "            SP[i,j,0] = infinity\n",
        "\n",
        "    for i in range(rows):\n",
        "        for j in range(cols):\n",
        "            if WMat[i,j,0] == 1:\n",
        "                SP[i,j,0] = WMat[i,j,1]\n",
        "    print(0)\n",
        "    print(SP[:,:,0])\n",
        "\n",
        "    for k in range(1,cols+1):\n",
        "        for i in range(rows):\n",
        "            for j in range(cols):\n",
        "                SP[i,j,k] = min(SP[i,j,k-1],\n",
        "                                SP[i,k-1,k-1]+SP[k-1,j,k-1])\n",
        "        print(k)\n",
        "        print(SP[:,:,k])\n",
        "\n",
        "    return(SP[:,:,cols])"
      ],
      "id": "zNfM8CHrtx5Z"
    },
    {
      "cell_type": "code",
      "execution_count": null,
      "metadata": {
        "id": "bG1VKM-Rtx5Z"
      },
      "outputs": [],
      "source": [
        "floydwarshall(W)"
      ],
      "id": "bG1VKM-Rtx5Z"
    },
    {
      "cell_type": "code",
      "execution_count": null,
      "metadata": {
        "id": "QJcgjAnrtx5a"
      },
      "outputs": [],
      "source": [
        "def primlist(WList):\n",
        "    infinity = 1 + max([d for u in WList.keys()\n",
        "                           for (v,d) in WList[u]])\n",
        "    (visited,distance) = ({},{})\n",
        "    for v in WList.keys():\n",
        "        (visited[v],distance[v]) = (False,infinity)\n",
        "\n",
        "    TreeEdges = []\n",
        "    visited[0] = True\n",
        "    for (v,d) in WList[0]:\n",
        "        distance[v] = d\n",
        "\n",
        "    for i in WList.keys():\n",
        "        mindist = infinity\n",
        "        nextv = None\n",
        "        for u in WList.keys():\n",
        "            for (v,d) in WList[u]:\n",
        "                if visited[u] and (not visited[v]) and d < mindist:\n",
        "                    mindist = d\n",
        "                    nextv = v\n",
        "                    nexte = (u,v)\n",
        "\n",
        "        if nextv is None:\n",
        "            break\n",
        "\n",
        "        visited[nextv] = True\n",
        "        TreeEdges.append(nexte)\n",
        "        for (v,d) in WList[nextv]:\n",
        "            if not visited[v]:\n",
        "                distance[v] = min(distance[v],d)\n",
        "    return(TreeEdges)"
      ],
      "id": "QJcgjAnrtx5a"
    },
    {
      "cell_type": "code",
      "execution_count": null,
      "metadata": {
        "id": "iuYgWOTwtx5a"
      },
      "outputs": [],
      "source": [
        "# Prims\n",
        "dedges = [(0,1,10),(0,3,18),(1,2,20),(1,3,6),(2,4,8),(3,4,70)]\n",
        "edges = dedges + [(j,i,w) for (i,j,w) in dedges]"
      ],
      "id": "iuYgWOTwtx5a"
    },
    {
      "cell_type": "code",
      "execution_count": 17,
      "metadata": {
        "id": "RKnw_hautx5b",
        "outputId": "941a3977-02ac-4028-adce-79728f5cd755",
        "colab": {
          "base_uri": "https://localhost:8080/",
          "height": 227
        }
      },
      "outputs": [
        {
          "output_type": "error",
          "ename": "KeyError",
          "evalue": "ignored",
          "traceback": [
            "\u001b[0;31m---------------------------------------------------------------------------\u001b[0m",
            "\u001b[0;31mKeyError\u001b[0m                                  Traceback (most recent call last)",
            "\u001b[0;32m<ipython-input-17-b5496dc3779d>\u001b[0m in \u001b[0;36m<cell line: 5>\u001b[0;34m()\u001b[0m\n\u001b[1;32m      4\u001b[0m     \u001b[0mWL\u001b[0m\u001b[0;34m[\u001b[0m\u001b[0mi\u001b[0m\u001b[0;34m]\u001b[0m \u001b[0;34m=\u001b[0m \u001b[0;34m[\u001b[0m\u001b[0;34m]\u001b[0m\u001b[0;34m\u001b[0m\u001b[0;34m\u001b[0m\u001b[0m\n\u001b[1;32m      5\u001b[0m \u001b[0;32mfor\u001b[0m \u001b[0;34m(\u001b[0m\u001b[0mi\u001b[0m\u001b[0;34m,\u001b[0m\u001b[0mj\u001b[0m\u001b[0;34m,\u001b[0m\u001b[0md\u001b[0m\u001b[0;34m)\u001b[0m \u001b[0;32min\u001b[0m \u001b[0medges\u001b[0m\u001b[0;34m:\u001b[0m\u001b[0;34m\u001b[0m\u001b[0;34m\u001b[0m\u001b[0m\n\u001b[0;32m----> 6\u001b[0;31m     \u001b[0mWL\u001b[0m\u001b[0;34m[\u001b[0m\u001b[0mi\u001b[0m\u001b[0;34m]\u001b[0m\u001b[0;34m.\u001b[0m\u001b[0mappend\u001b[0m\u001b[0;34m(\u001b[0m\u001b[0;34m(\u001b[0m\u001b[0mj\u001b[0m\u001b[0;34m,\u001b[0m\u001b[0md\u001b[0m\u001b[0;34m)\u001b[0m\u001b[0;34m)\u001b[0m\u001b[0;34m\u001b[0m\u001b[0;34m\u001b[0m\u001b[0m\n\u001b[0m\u001b[1;32m      7\u001b[0m \u001b[0mprint\u001b[0m\u001b[0;34m(\u001b[0m\u001b[0mWL\u001b[0m\u001b[0;34m)\u001b[0m\u001b[0;34m\u001b[0m\u001b[0;34m\u001b[0m\u001b[0m\n",
            "\u001b[0;31mKeyError\u001b[0m: 5"
          ]
        }
      ],
      "source": [
        "size = 5\n",
        "WL = {}\n",
        "for i in range(size):\n",
        "    WL[i] = []\n",
        "for (i,j,d) in edges:\n",
        "    WL[i].append((j,d))\n",
        "print(WL)"
      ],
      "id": "RKnw_hautx5b"
    },
    {
      "cell_type": "code",
      "execution_count": null,
      "metadata": {
        "id": "V8cl5Tsatx5b"
      },
      "outputs": [],
      "source": [
        "primlist(WL)"
      ],
      "id": "V8cl5Tsatx5b"
    },
    {
      "cell_type": "code",
      "execution_count": null,
      "metadata": {
        "id": "F2hnWpE1tx5c"
      },
      "outputs": [],
      "source": [
        "def primlist2(WList):\n",
        "    infinity = 1 + max([d for u in WList.keys()\n",
        "                           for (v,d) in WList[u]])\n",
        "    (visited,distance,nbr) = ({},{},{})\n",
        "    for v in WList.keys():\n",
        "        (visited[v],distance[v],nbr[v]) = (False,infinity,-1)\n",
        "\n",
        "    visited[0] = True\n",
        "    for (v,d) in WList[0]:\n",
        "        distance[v] = d\n",
        "        nbr[v] = 0\n",
        "\n",
        "    for i in range(1,len(WList.keys())):\n",
        "        nextd = min([distance[v] for v in WList.keys()\n",
        "                        if not visited[v]])\n",
        "        nextvlist = [v for v in WList.keys()\n",
        "                        if (not visited[v]) and\n",
        "                            distance[v] == nextd]\n",
        "        if nextvlist == []:\n",
        "            break\n",
        "        nextv = min(nextvlist)\n",
        "\n",
        "        visited[nextv] = True\n",
        "        for (v,d) in WList[nextv]:\n",
        "            if not visited[v] and d < distance[v]:\n",
        "                    (distance[v],nbr) = (d,nextv)\n",
        "    return(nbr)"
      ],
      "id": "F2hnWpE1tx5c"
    },
    {
      "cell_type": "code",
      "execution_count": 18,
      "metadata": {
        "id": "KytdZDIdtx5d",
        "outputId": "842d9208-bc17-472a-c71d-fc01cf962785",
        "colab": {
          "base_uri": "https://localhost:8080/",
          "height": 175
        }
      },
      "outputs": [
        {
          "output_type": "error",
          "ename": "NameError",
          "evalue": "ignored",
          "traceback": [
            "\u001b[0;31m---------------------------------------------------------------------------\u001b[0m",
            "\u001b[0;31mNameError\u001b[0m                                 Traceback (most recent call last)",
            "\u001b[0;32m<ipython-input-18-e8b1d15400de>\u001b[0m in \u001b[0;36m<cell line: 1>\u001b[0;34m()\u001b[0m\n\u001b[0;32m----> 1\u001b[0;31m \u001b[0mprimlist2\u001b[0m\u001b[0;34m(\u001b[0m\u001b[0mWL\u001b[0m\u001b[0;34m)\u001b[0m\u001b[0;34m\u001b[0m\u001b[0;34m\u001b[0m\u001b[0m\n\u001b[0m",
            "\u001b[0;31mNameError\u001b[0m: name 'primlist2' is not defined"
          ]
        }
      ],
      "source": [
        "primlist2(WL)"
      ],
      "id": "KytdZDIdtx5d"
    },
    {
      "cell_type": "code",
      "execution_count": 19,
      "metadata": {
        "id": "c1irTH_-tx5d"
      },
      "outputs": [],
      "source": [
        "def kruskal(WList):\n",
        "    (edges,component,TE) = ([],{},[])\n",
        "    for u in WList.keys():\n",
        "        # Weight as first component to sort easily\n",
        "        edges.extend([(d,u,v) for (v,d) in WList[u]])\n",
        "        component[u] = u\n",
        "    edges.sort()\n",
        "    print(edges)\n",
        "\n",
        "    for (d,u,v) in edges:\n",
        "        if component[u] != component[v]:\n",
        "            TE.append((u,v))\n",
        "            c = component[u]\n",
        "            for w in WList.keys():\n",
        "                if component[w] == c:\n",
        "                    component[w] = component[v]\n",
        "    return(TE)\n"
      ],
      "id": "c1irTH_-tx5d"
    },
    {
      "cell_type": "code",
      "execution_count": 20,
      "metadata": {
        "id": "Fg42fK7Ytx5e"
      },
      "outputs": [],
      "source": [
        "# Kruskak example\n",
        "dedges = [(0,1,10),(0,2,18),(1,2,6),(1,4,20),(2,3,70),(4,5,10),(4,6,10),(5,6,5)]\n",
        "edges = dedges + [(j,i,w) for (i,j,w) in dedges]"
      ],
      "id": "Fg42fK7Ytx5e"
    },
    {
      "cell_type": "code",
      "execution_count": 21,
      "metadata": {
        "id": "nvr2E0Ertx5e"
      },
      "outputs": [],
      "source": [
        "size = 7\n",
        "WL = {}\n",
        "for i in range(size):\n",
        "    WL[i] = []\n",
        "for (i,j,d) in edges:\n",
        "    WL[i].append((j,d))"
      ],
      "id": "nvr2E0Ertx5e"
    },
    {
      "cell_type": "code",
      "execution_count": 22,
      "metadata": {
        "id": "gM3oBh6Gtx5e",
        "outputId": "b9092a45-5631-4024-c0ce-23e78d3e71e0",
        "colab": {
          "base_uri": "https://localhost:8080/"
        }
      },
      "outputs": [
        {
          "output_type": "stream",
          "name": "stdout",
          "text": [
            "[(5, 5, 6), (5, 6, 5), (6, 1, 2), (6, 2, 1), (10, 0, 1), (10, 1, 0), (10, 4, 5), (10, 4, 6), (10, 5, 4), (10, 6, 4), (18, 0, 2), (18, 2, 0), (20, 1, 4), (20, 4, 1), (70, 2, 3), (70, 3, 2)]\n"
          ]
        },
        {
          "output_type": "execute_result",
          "data": {
            "text/plain": [
              "[(5, 6), (1, 2), (0, 1), (4, 5), (1, 4), (2, 3)]"
            ]
          },
          "metadata": {},
          "execution_count": 22
        }
      ],
      "source": [
        "kruskal(WL)"
      ],
      "id": "gM3oBh6Gtx5e"
    },
    {
      "cell_type": "code",
      "source": [],
      "metadata": {
        "id": "WyCnwe5V14vY"
      },
      "id": "WyCnwe5V14vY",
      "execution_count": 22,
      "outputs": []
    }
  ],
  "metadata": {
    "kernelspec": {
      "display_name": "Python 3",
      "language": "python",
      "name": "python3"
    },
    "language_info": {
      "codemirror_mode": {
        "name": "ipython",
        "version": 3
      },
      "file_extension": ".py",
      "mimetype": "text/x-python",
      "name": "python",
      "nbconvert_exporter": "python",
      "pygments_lexer": "ipython3",
      "version": "3.7.7"
    },
    "colab": {
      "provenance": []
    }
  },
  "nbformat": 4,
  "nbformat_minor": 5
}