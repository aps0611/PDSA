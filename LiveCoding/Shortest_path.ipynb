{
  "nbformat": 4,
  "nbformat_minor": 0,
  "metadata": {
    "colab": {
      "provenance": []
    },
    "kernelspec": {
      "name": "python3",
      "display_name": "Python 3"
    },
    "language_info": {
      "name": "python"
    }
  },
  "cells": [
    {
      "cell_type": "markdown",
      "source": [
        "'''\n",
        "Lost in the Jungle\n",
        "\n",
        "Once upon a time, there was a group of adventurous friends who decided to go on a jungle expedition.\n",
        "They were exploring the dense, uncharted jungles of “Mystica’. While enjoying their journey, they realized they had lost their way back to the camp.\n",
        "The jungle was like a maze with various interconnected paths, and the friends had a map that displayed some landmarks and the connections between them.\n",
        "Each landmark was represented by a unique integer identifier, and they knew that the connections were bidirectional.\n",
        "\n",
        "Write a function shortest_path_to_camp(totai_landmarks, connections, current_landmark, camp_landmark) that takes the following parameters:\n",
        "total_landmarks: An integer n, represents the total number of landmarks in the jungle labelled from 1 to n.\n",
        "connections: A dictionary which represents the adjacency list of connections, where each key represents the source landmark and values represent the list of adjacent landmarks of the source landmark.\n",
        "current_landmark: An integer, the current landmark where the friends are currently located.\n",
        "camp_ landmark: An integer, the landmark of their camp.\n",
        "The function should return the minimum number of landmarks the friends need to cross to reach their camp (including current landmark and camp landmark).\n",
        "\n",
        "Sample input\n",
        "18 #total_landmarks\n",
        "(1:(2),2211,3,4],3:(2,5],4:(2,6},5: (3,9) ,6:14,7],7: (6,8) ,8: (7,9],9: (5,8],10:18]} #connections\n",
        "3. #start_landmark\n",
        "9 #camp_landmark\n",
        "\n",
        "Sample Output\n",
        "3 #minimum number of landmarks along the path\n",
        "\n",
        "Explanation:\n",
        "The shortest path from landmark 3 to landmark 9 is through the landmarks 3, 5, and 9, with a total of 3 landmarks to cross. Hence, the output is 3.\n",
        "\n",
        "'''"
      ],
      "metadata": {
        "id": "ocRy4zHhftND"
      }
    },
    {
      "cell_type": "code",
      "execution_count": 5,
      "metadata": {
        "id": "70aRvCsXfric"
      },
      "outputs": [],
      "source": [
        "from collections import deque\n",
        "\n",
        "def SHORTEST_PATH(total_landmarks, connections, current_landmark, camp_landmark):\n",
        "  # creating a visited array to keep track of the landmarks\n",
        "  visited = [False] * (total_landmarks + 1)\n",
        "\n",
        "  # queue to keep track of landmarks to visit next\n",
        "  queue = deque()\n",
        "\n",
        "  ## adding the current landmark to the queue and mark it as visited.\n",
        "  ## also adding the counter to keep track of number of landmarks crossed.\n",
        "\n",
        "  queue.append((current_landmark, 1))\n",
        "  visited[current_landmark] = True\n",
        "\n",
        "  while queue:\n",
        "    ## Dequeue a landmark from the queue\n",
        "    landmark, count = queue.popleft()\n",
        "\n",
        "    ## check if the landmark is camp_landmark\n",
        "    if landmark == camp_landmark:\n",
        "      return count\n",
        "\n",
        "    ## iterate through the adjacent landmark of the current landmark\n",
        "    for neighbor in connections.get(landmark, []):\n",
        "       # If the adjacent landmark is not visited, mark it as visited and enqueue\n",
        "      if not visited[neighbor]:\n",
        "        visited[neighbor] = True\n",
        "        queue.append((neighbor, count + 1))\n",
        "\n",
        "  ## Return -1 if there is no path from current_landmark to camp_landmark\n",
        "  return -1\n"
      ]
    },
    {
      "cell_type": "code",
      "source": [
        "# Sample input\n",
        "total_landmarks = 18\n",
        "connections = {1:[2,11,3,4],3:[2,5],4:[2,6],5:[3,9],6:[1,4,7],7:[6,8],8:[7,9],9:[5,8],10:[1,8]}\n",
        "current_landmark = 3\n",
        "camp_landmark = 9\n",
        "\n",
        "# Output\n",
        "print(SHORTEST_PATH(total_landmarks, connections, current_landmark, camp_landmark)) # Output will be 3"
      ],
      "metadata": {
        "colab": {
          "base_uri": "https://localhost:8080/"
        },
        "id": "C8FEvmy1grM5",
        "outputId": "6638203f-d0a6-4f5b-c456-8f31f9926a70"
      },
      "execution_count": 6,
      "outputs": [
        {
          "output_type": "stream",
          "name": "stdout",
          "text": [
            "3\n"
          ]
        }
      ]
    },
    {
      "cell_type": "code",
      "source": [],
      "metadata": {
        "id": "WkzfgmBpkLhK"
      },
      "execution_count": null,
      "outputs": []
    }
  ]
}