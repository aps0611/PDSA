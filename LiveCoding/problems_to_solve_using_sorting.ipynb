{
  "nbformat": 4,
  "nbformat_minor": 0,
  "metadata": {
    "colab": {
      "provenance": []
    },
    "kernelspec": {
      "name": "python3",
      "display_name": "Python 3"
    },
    "language_info": {
      "name": "python"
    }
  },
  "cells": [
    {
      "cell_type": "code",
      "execution_count": null,
      "metadata": {
        "id": "3K6vMK_LtCLR"
      },
      "outputs": [],
      "source": [
        "\"\"\"Coding competition teams\n",
        "\n",
        "There are n students in the current PDSA term of the IITM Online Degree Phogram. Assume that the number of students is even. The ith student has programming skill denoted by a positive integer ai.\n",
        "\n",
        "The instructors want to form n/2 teams for an upcoming coding competition. Each team should consist of exactly two students, and each student should belong to exactly one team. Two students can form a team only if their skills are equal (otherwise they cannot understand each other and cannot form a team).\n",
        "\n",
        "Students can solve problems to increase their skill. One solved problem increases the skill by one.\n",
        "The instructor wants to know the minimum total number of problems students should solve to form exactly r/2 teams (i.e. each students should be part of a team).\n",
        "\n",
        "Write a function coding problems{students) that takes as input a list students with indices from 0 to n-1, and the element at index { of list students represents the programming skill of student i. The function returns the minimum total number of problems students should solve to form exactly n/2 teams as output.\n",
        "\n",
        "Example\n",
        "Consider the list students to be [5, 10, 2, 3, 14, 5]. In this case, the optimal teams will be (2,3), (0,5), and (1,4), where each pair denotes a team in terms of the indices of the students. Then, to form the first team the third student should solve 1 problem, to form the second team nobody needs to solve problems, and to form the third team the second student should solve 4 problems,\n",
        "so the answer is 1 + 4 = 5.\n",
        "\n",
        "Sample input 1\n",
        "[5,10,2,3,14,5]\n",
        "Output\n",
        "5\n",
        "\n",
        "Sample Input 2\n",
        "[1,100]\n",
        "Output\n",
        "99\"\"\"\n",
        "\n",
        "\"\"\" def codingProblems(students):\n",
        "    n = len(students)\n",
        "    cnt = 0\n",
        "    students.sort()\n",
        "    for i in range(0, n, 2):\n",
        "        cnt += students[i + 1] - students[i]\n",
        "    return cnt\n",
        "\n",
        "students = [5, 10, 2, 3, 14, 5]\n",
        "print(codingProblems(students))\n",
        "\n",
        "students = [1, 100]\n",
        "print(codingProblems(students)) \"\"\"\n",
        "\n",
        "def coding_problems(students):\n",
        "    students.sort() # Sort the skills\n",
        "    problems_to_solve = 0\n",
        "\n",
        "    # Iterate through the sorted list by step 2 and sum the differences between adjacent elements\n",
        "    for i in range(0, len(students), 2):\n",
        "        problems_to_solve += abs(students[i] - students[i + 1])\n",
        "\n",
        "    return problems_to_solve\n",
        "\n",
        "# Sample Input 1\n",
        "students1 = [5,10,2,3,14,5]\n",
        "print(coding_problems(students1)) # Output: 5\n",
        "\n",
        "# Sample Input 2\n",
        "students2 = [1,100]\n",
        "print(coding_problems(students2)) # Output: 99"
      ]
    }
  ]
}