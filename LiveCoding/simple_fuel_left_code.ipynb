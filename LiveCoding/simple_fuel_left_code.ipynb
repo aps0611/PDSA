{
  "nbformat": 4,
  "nbformat_minor": 0,
  "metadata": {
    "colab": {
      "provenance": []
    },
    "kernelspec": {
      "name": "python3",
      "display_name": "Python 3"
    },
    "language_info": {
      "name": "python"
    }
  },
  "cells": [
    {
      "cell_type": "markdown",
      "source": [
        "Problem: Fuel Stops between Petrol Pumps\n",
        "\n",
        "You are driving a vehicle with a fuel tank capacity of c units. There are multiple petrol pumps located at different distances. You need to determine the minimum number of stops required to reach your destination while ensuring that you don't run out of fuel between any two consecutive petrol pumps.\n",
        "\n",
        "Given a list P of distances to petrol pumps in ascending order and the fuel tank capacity c, implement a function breakPoints(c, P) that returns the minimum number of stops needed to reach the destination. If it's not possible to reach the destination, return -1."
      ],
      "metadata": {
        "id": "ptYeT_GurQMT"
      }
    },
    {
      "cell_type": "code",
      "execution_count": 1,
      "metadata": {
        "colab": {
          "base_uri": "https://localhost:8080/",
          "height": 90
        },
        "id": "Pr1ivQEjrCC7",
        "outputId": "bb6fd5fb-4084-41ee-9fcc-7b42d2204455"
      },
      "outputs": [
        {
          "output_type": "execute_result",
          "data": {
            "text/plain": [
              "\"\\nStart with a full tank of fuel.\\nIterate through the list of distances between petrol pumps.\\nIf the distance to the next petrol pump is greater than the tank capacity (c), it's not possible to reach the destination, so return -1.\\nIf the distance to the next petrol pump is greater than the fuel left, make a stop, refill the tank, and continue.\\nSubtract the distance to the next petrol pump from the fuel left.\\nAfter iterating through all distances, return the total number of stops made.\\n\""
            ],
            "application/vnd.google.colaboratory.intrinsic+json": {
              "type": "string"
            }
          },
          "metadata": {},
          "execution_count": 1
        }
      ],
      "source": [
        "'''\n",
        "Start with a full tank of fuel.\n",
        "Iterate through the list of distances between petrol pumps.\n",
        "If the distance to the next petrol pump is greater than the tank capacity (c), it's not possible to reach the destination, so return -1.\n",
        "If the distance to the next petrol pump is greater than the fuel left, make a stop, refill the tank, and continue.\n",
        "Subtract the distance to the next petrol pump from the fuel left.\n",
        "After iterating through all distances, return the total number of stops made.\n",
        "'''"
      ]
    },
    {
      "cell_type": "code",
      "source": [
        "def breakPoint(c, P):\n",
        "  P.sort()\n",
        "  stops = 0\n",
        "  fuel_left = c\n",
        "\n",
        "  for i in range(1, len(P)):\n",
        "    distance_to_next_P = P[i] - P[i-1]\n",
        "\n",
        "    if distance_to_next_P > c:\n",
        "      return -1\n",
        "\n",
        "    # if distance to next P is greater than fuel left make a stop\n",
        "    if distance_to_next_P > fuel_left:\n",
        "      stops += 1\n",
        "      fuel_left = c # refill the tank\n",
        "\n",
        "    fuel_left -= distance_to_next_P\n",
        "\n",
        "  return stops\n",
        "\n",
        "\n",
        "# Sample input 1\n",
        "print(breakPoint(50, [0,10,80,100,260,250,230,220,120,140,180,30,40,20,300]))  # Output: 7\n",
        "\n",
        "# Sample input 2\n",
        "print(breakPoint(50, [0,51,100,140]))  # Output: -1"
      ],
      "metadata": {
        "colab": {
          "base_uri": "https://localhost:8080/"
        },
        "id": "2INGy__MrfJ2",
        "outputId": "0722d476-3984-4808-ac1f-29c51b9f3c22"
      },
      "execution_count": 2,
      "outputs": [
        {
          "output_type": "stream",
          "name": "stdout",
          "text": [
            "7\n",
            "-1\n"
          ]
        }
      ]
    },
    {
      "cell_type": "code",
      "source": [],
      "metadata": {
        "id": "YmSGfWlysoXf"
      },
      "execution_count": null,
      "outputs": []
    }
  ]
}