{
  "nbformat": 4,
  "nbformat_minor": 0,
  "metadata": {
    "colab": {
      "provenance": []
    },
    "kernelspec": {
      "name": "python3",
      "display_name": "Python 3"
    },
    "language_info": {
      "name": "python"
    }
  },
  "cells": [
    {
      "cell_type": "markdown",
      "source": [
        "\n",
        "## Binary Search Tree Operation\n",
        "\n",
        "```\n",
        "class Node:\n",
        "    def __init_ (self, data):\n",
        "        self.left = None # Contains reference to the left child node if it exists, otherwise None\n",
        "        self.data = data # Stores data\n",
        "        self.right = None # Contains reference to the right child node if it exists, otherwise None\n",
        "\n",
        "```\n",
        "\n",
        "\n",
        "Consider an implementation of a Binary Search Tree, where each node is created using the given class Node.\n",
        "Suppose it has a root variable that contains the reference to the root node of the binary search tree.\n",
        "Write a function leaf_nodes(root) that accepts the reference of root node root of a non-empty binary search tree\n",
        "and returns a list containing the data present in all the leaf nodes of the tree, sorted in ascending order.\n",
        "\n",
        "Sample input 1\n",
        "105 18 8 3 15 25 17\n",
        "\n",
        "Note:- Binary search tree is created using the hidden suffix code for a given order of elements in the input, and the reference of the root node is passed to the function leaf_nodes as a\n",
        "parameter. You need to work on a binary search tree using the reference of the root node."
      ],
      "metadata": {
        "id": "h_voJq-fCkHr"
      }
    },
    {
      "cell_type": "code",
      "execution_count": 2,
      "metadata": {
        "id": "H4f4gOqQCY-R",
        "colab": {
          "base_uri": "https://localhost:8080/",
          "height": 534
        },
        "outputId": "7dc756ad-5dec-489d-a139-1663e54a294e"
      },
      "outputs": [
        {
          "output_type": "stream",
          "name": "stdout",
          "text": [
            "Leaf Nodes: [3, 17, 25]\n"
          ]
        },
        {
          "output_type": "display_data",
          "data": {
            "text/plain": [
              "<Figure size 640x480 with 1 Axes>"
            ],
            "image/png": "[encoded data removed]"
          },
          "metadata": {}
        }
      ],
      "source": [
        "import matplotlib.pyplot as plt\n",
        "import networkx as nx\n",
        "\n",
        "class Node:\n",
        "  def __init__(self, data):\n",
        "    self.left = None\n",
        "    self.right = None\n",
        "    self.data = data\n",
        "\n",
        "def insert(root, data):\n",
        "    if root is None:\n",
        "        return Node(data)\n",
        "    else:\n",
        "        if data < root.data:\n",
        "            root.left = insert(root.left, data)\n",
        "        else:\n",
        "            root.right = insert(root.right, data)\n",
        "        return root\n",
        "\n",
        "def construct_tree(values):\n",
        "    root = None\n",
        "    for value in values:\n",
        "        root = insert(root, value)\n",
        "    return root\n",
        "\n",
        "def leaf_nodes(root):\n",
        "    leaf_values = []\n",
        "\n",
        "    def in_order_traversal(node):\n",
        "        if node:\n",
        "            in_order_traversal(node.left)\n",
        "            if node.left is None and node.right is None:\n",
        "                leaf_values.append(node.data)\n",
        "            in_order_traversal(node.right)\n",
        "\n",
        "    in_order_traversal(root)\n",
        "    return leaf_values\n",
        "\n",
        "def plot_tree(root):\n",
        "    tree = nx.Graph()\n",
        "    labels = {}\n",
        "    pos = {}\n",
        "\n",
        "    # Function to calculate positions and add nodes and edges recursively\n",
        "    def traverse(node, x=0, y=0, dx=1.0, parent=None):\n",
        "        if node:\n",
        "            pos[x, y] = (x, -y) # Store the position for this node\n",
        "            labels[x, y] = node.data\n",
        "            if parent is not None:\n",
        "                tree.add_edge((x, y), parent) # Add edge to parent\n",
        "            # Traverse left and right subtrees, reducing horizontal spacing by half\n",
        "            traverse(node.left, x - dx/2, y + 1, dx/2, (x, y))\n",
        "            traverse(node.right, x + dx/2, y + 1, dx/2, (x, y))\n",
        "\n",
        "    traverse(root, dx=2.0)\n",
        "    nx.draw(tree, pos, labels=labels, with_labels=True, node_size=1000, node_color='skyblue')\n",
        "    plt.show()\n",
        "\n",
        "\n",
        "# Sample usage:\n",
        "values = [105, 18, 8, 3, 15, 25, 17]\n",
        "root = construct_tree(values)\n",
        "\n",
        "print(\"Leaf Nodes:\", leaf_nodes(root)) # Output the leaf nodes\n",
        "plot_tree(root) # Plot the tree"
      ]
    },
    {
      "cell_type": "code",
      "source": [
        "# same approach just practicing in different way\n",
        "class Node:\n",
        "  def __init__(self, data = None):\n",
        "    self.left = None\n",
        "    self.right = None\n",
        "    self.data = data\n",
        "\n",
        "def insert(root, data):\n",
        "  if root is None:\n",
        "    root = Node(data)\n",
        "  else:\n",
        "    if data > root.data:\n",
        "      root.right = insert(root.right, data)\n",
        "    else:\n",
        "      root.left = insert(root.left, data)\n",
        "\n",
        "  return root\n",
        "\n",
        "def create_tree(values):\n",
        "  root = None\n",
        "  for value in values:\n",
        "    root = insert(root, value)\n",
        "  return root\n",
        "\n",
        "\n",
        "def isleaf(node):\n",
        "  # root.left and root.right = None and root.data != None\n",
        "  return node is not None and node.left is None and node.right is None\n",
        "\n",
        "def getleafs(root):\n",
        "  # of course i need to traverse the tree and check for the leafs:\n",
        "  leafs = []\n",
        "  def inorder(node):\n",
        "    if node:\n",
        "      inorder(node.left)\n",
        "      if isleaf(node):\n",
        "       leafs.append(node.data)\n",
        "      inorder(node.right)\n",
        "  inorder(root)\n",
        "  return leafs\n",
        "\n",
        "values = [105, 18, 8, 3, 15, 25, 17]\n",
        "root = create_tree(values)\n",
        "ans = getleafs(root)"
      ],
      "metadata": {
        "id": "pGdpmB-nN4TH"
      },
      "execution_count": 16,
      "outputs": []
    },
    {
      "cell_type": "code",
      "source": [
        "ans"
      ],
      "metadata": {
        "id": "DijvgmZkY4dL",
        "outputId": "9ae957d2-8eca-4491-b73d-0cb0a8d38056",
        "colab": {
          "base_uri": "https://localhost:8080/"
        }
      },
      "execution_count": 17,
      "outputs": [
        {
          "output_type": "execute_result",
          "data": {
            "text/plain": [
              "[3, 17, 25]"
            ]
          },
          "metadata": {},
          "execution_count": 17
        }
      ]
    },
    {
      "cell_type": "code",
      "source": [],
      "metadata": {
        "id": "XxARidU4cEmM"
      },
      "execution_count": null,
      "outputs": []
    }
  ]
}