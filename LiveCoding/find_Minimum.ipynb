{
  "nbformat": 4,
  "nbformat_minor": 0,
  "metadata": {
    "colab": {
      "provenance": []
    },
    "kernelspec": {
      "name": "python3",
      "display_name": "Python 3"
    },
    "language_info": {
      "name": "python"
    }
  },
  "cells": [
    {
      "cell_type": "markdown",
      "source": [
        "Find Minimum\n",
        "Write a function findMinimum(L) that accepts a non-empty sorted list of n distinct elements\n",
        "which has been shifted/rotated to the right or left an unknown number of times.\n",
        "For example, shifting [1, 2, 3, 4, 5] twice to the right results in [4, 5, 1, 2, 3] and\n",
        "shifting twice to the left results in [3, 4, 5, 1, 2]. The function returns the smallest element in the list L.\n",
        "Write an efficient solution of complexity O(logn).\n",
        "Note:- Do not use slicing for the list because it is O(n) operation.\n",
        "\n",
        "Sample Input\n",
        "[5,6,7,8,9,1,2,3,4]\n",
        "Output\n",
        "l"
      ],
      "metadata": {
        "id": "IaAWPsE-3Bvt"
      }
    },
    {
      "cell_type": "code",
      "execution_count": null,
      "metadata": {
        "id": "BPdDY_N42_-X"
      },
      "outputs": [],
      "source": [
        "def findMinimum(L):\n",
        "    left, right = 0, len(L) - 1\n",
        "\n",
        "    while left < right:\n",
        "        mid = left + (right - left) // 2\n",
        "\n",
        "        # If the element at mid is greater than the element at right,\n",
        "        # it means the minimum element is on the right side\n",
        "        if L[mid] > L[right]:\n",
        "            left = mid + 1\n",
        "        else:\n",
        "            # Otherwise, the minimum is on the left side\n",
        "            right = mid\n",
        "\n",
        "    return L[left]\n",
        "\n",
        "# Sample input\n",
        "print(findMinimum([5,6,7,8,9,1,2,3,4]))  # Output: 1\n"
      ]
    },
    {
      "cell_type": "code",
      "source": [],
      "metadata": {
        "id": "ECQLvbKN5dPW"
      },
      "execution_count": null,
      "outputs": []
    }
  ]
}