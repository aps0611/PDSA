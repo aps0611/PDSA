{
  "nbformat": 4,
  "nbformat_minor": 0,
  "metadata": {
    "colab": {
      "provenance": []
    },
    "kernelspec": {
      "name": "python3",
      "display_name": "Python 3"
    },
    "language_info": {
      "name": "python"
    }
  },
  "cells": [
    {
      "cell_type": "markdown",
      "source": [
        "'''\n",
        "Write a function backandforth(AList, endl, end2) to return the maximum number of possible\n",
        "route between node endl and node end2 in the undirected graph without going through the\n",
        "same node again with exception to endl and end2. The connectivity details between nodes are\n",
        "provided by the adjacency list AList.\n",
        "\n",
        "```\n",
        "Sample Input\n",
        "AList = {\n",
        "O: (2, 3, 6],\n",
        "2: (0, 3, 4],\n",
        "3: (4, 2, 0, 1),\n",
        "6: (1, 5, 0],\n",
        "1: (3, 6, 5],\n",
        "4: (2, 3, 5],\n",
        "5: (1, 4, 6]\n",
        "}\n",
        "endl = 0\n",
        "end2 = 1\n",
        "```\n",
        "Sample Output\n",
        "3\n",
        "'''\n"
      ],
      "metadata": {
        "id": "5xImIdLzpfOj"
      }
    },
    {
      "cell_type": "code",
      "execution_count": 5,
      "metadata": {
        "colab": {
          "base_uri": "https://localhost:8080/"
        },
        "id": "DQTwk5XNpbRq",
        "outputId": "4393ee13-7a26-4920-ae0c-0c7e917f8bd4"
      },
      "outputs": [
        {
          "output_type": "stream",
          "name": "stdout",
          "text": [
            "15\n"
          ]
        }
      ],
      "source": [
        "def backandforth(AList, endl, end2):\n",
        "    num_routes = 0\n",
        "    visited = set()\n",
        "\n",
        "    def _explore(node):\n",
        "      nonlocal num_routes\n",
        "      if node == end2:\n",
        "        num_routes += 1\n",
        "        return\n",
        "\n",
        "      visited.add(node)\n",
        "      for neighbour in AList[node]:\n",
        "        if neighbour not in visited:\n",
        "          _explore(neighbour)\n",
        "\n",
        "      visited.remove(node) # backtrack\n",
        "\n",
        "    _explore(endl)\n",
        "    return num_routes\n",
        "\n",
        "\n",
        "AList = {\n",
        "    0: [2, 3, 6],\n",
        "    2: [0, 3, 4],\n",
        "    3: [4, 2, 0, 1],\n",
        "    6: [1, 5, 0],\n",
        "    1: [3, 6, 5],\n",
        "    4: [2, 3, 5],\n",
        "    5: [1, 4, 6]\n",
        "}\n",
        "endl = 0\n",
        "end2 = 1\n",
        "\n",
        "print(backandforth(AList, endl, end2))  # Output:"
      ]
    },
    {
      "cell_type": "code",
      "source": [],
      "metadata": {
        "id": "FOPWFTrIqMge"
      },
      "execution_count": null,
      "outputs": []
    }
  ]
}