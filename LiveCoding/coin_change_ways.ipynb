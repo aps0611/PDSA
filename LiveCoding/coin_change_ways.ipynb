{
  "nbformat": 4,
  "nbformat_minor": 0,
  "metadata": {
    "colab": {
      "provenance": []
    },
    "kernelspec": {
      "name": "python3",
      "display_name": "Python 3"
    },
    "language_info": {
      "name": "python"
    }
  },
  "cells": [
    {
      "cell_type": "markdown",
      "source": [
        "'''Coin Change Ways\n",
        "\n",
        "You are given a set of coins, each with a different positive denomination, and a target amount of money.\n",
        "Your task is to determine the number of distinct ways you can make up the target amount using the given coins.\n",
        "You have an infinite supply of each coin denomination.\n",
        "\n",
        "Implement a function coin_change_ways(coins, amount) that takes in a list of coin denominations \"coins\" and an integer \"amount\",\n",
        "and returns the number of distinct ways to make up the amount using the given coins.\n",
        "\n",
        "Sample input 1\n",
        "[1, 2, 5]\n",
        "5\n",
        "\n",
        "Output:\n",
        "4\n",
        "\n",
        "Explanation\n",
        "There are four ways to make up the amount 5: [1, 1, 1, 1, 1, [1, 1, 1, 2), {1, 2, 2), and [5].\n",
        "\n",
        "Sample Input 2\n",
        "[2, 3, 4, 7]\n",
        "7\n",
        "\n",
        "Output:\n",
        "3\n",
        "\n",
        "Explanation\n",
        "There are three ways to make up the amount 7: [2, 2, 3], [3, 4], and [7].\n",
        "'''\n"
      ],
      "metadata": {
        "id": "ZZ6FuSDwxyC6"
      }
    },
    {
      "cell_type": "code",
      "execution_count": 3,
      "metadata": {
        "colab": {
          "base_uri": "https://localhost:8080/"
        },
        "id": "djvqGrSduCwe",
        "outputId": "600e0bfa-dda3-4013-af78-2a75f673ef24"
      },
      "outputs": [
        {
          "output_type": "stream",
          "name": "stdout",
          "text": [
            "[1, 1, 0, 0, 0, 0]\n",
            "[1, 1, 1, 0, 0, 0]\n",
            "[1, 1, 1, 1, 0, 0]\n",
            "[1, 1, 1, 1, 1, 0]\n",
            "[1, 1, 1, 1, 1, 1]\n",
            "[1, 1, 2, 1, 1, 1]\n",
            "[1, 1, 2, 2, 1, 1]\n",
            "[1, 1, 2, 2, 3, 1]\n",
            "[1, 1, 2, 2, 3, 3]\n",
            "[1, 1, 2, 2, 3, 4]\n",
            "4\n",
            "[1, 0, 1, 0, 0, 0, 0, 0]\n",
            "[1, 0, 1, 0, 0, 0, 0, 0]\n",
            "[1, 0, 1, 0, 1, 0, 0, 0]\n",
            "[1, 0, 1, 0, 1, 0, 0, 0]\n",
            "[1, 0, 1, 0, 1, 0, 1, 0]\n",
            "[1, 0, 1, 0, 1, 0, 1, 0]\n",
            "[1, 0, 1, 1, 1, 0, 1, 0]\n",
            "[1, 0, 1, 1, 1, 0, 1, 0]\n",
            "[1, 0, 1, 1, 1, 1, 1, 0]\n",
            "[1, 0, 1, 1, 1, 1, 2, 0]\n",
            "[1, 0, 1, 1, 1, 1, 2, 1]\n",
            "[1, 0, 1, 1, 2, 1, 2, 1]\n",
            "[1, 0, 1, 1, 2, 1, 2, 1]\n",
            "[1, 0, 1, 1, 2, 1, 3, 1]\n",
            "[1, 0, 1, 1, 2, 1, 3, 2]\n",
            "[1, 0, 1, 1, 2, 1, 3, 3]\n",
            "3\n"
          ]
        }
      ],
      "source": [
        "def coin_change_ways(coins, amount):\n",
        "  dp = [0] * (amount + 1)\n",
        "\n",
        "  dp[0] = 1\n",
        "\n",
        "  for coin in coins:\n",
        "    for i in range(coin, amount + 1):\n",
        "      dp[i] += dp[i - coin]\n",
        "      print(dp)\n",
        "\n",
        "  return dp[amount]\n",
        "# Test the function with the given samples\n",
        "print(coin_change_ways([1, 2, 5], 5))  # Output: 4\n",
        "print(coin_change_ways([2, 3, 4, 7], 7))  # Output: 3"
      ]
    },
    {
      "cell_type": "code",
      "source": [],
      "metadata": {
        "id": "gwgDYUNYyhLB"
      },
      "execution_count": null,
      "outputs": []
    }
  ]
}