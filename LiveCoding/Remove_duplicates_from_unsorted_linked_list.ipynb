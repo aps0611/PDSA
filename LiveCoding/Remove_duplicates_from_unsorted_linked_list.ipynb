{
  "nbformat": 4,
  "nbformat_minor": 0,
  "metadata": {
    "colab": {
      "provenance": []
    },
    "kernelspec": {
      "name": "python3",
      "display_name": "Python 3"
    },
    "language_info": {
      "name": "python"
    }
  },
  "cells": [
    {
      "cell_type": "markdown",
      "source": [
        "\n",
        "Remove Duplicates from Unsorted Linked List\n",
        "\n",
        "\n",
        "\n",
        "\n",
        "\n",
        "```\n",
        "class Node:\n",
        "\tdef _init_(self, datasNone):\n",
        "\t\tself.data = data # Stores data\n",
        "\t\tselt.next = None # Contains reference to the next node if it exists, otherwise None```\n",
        "\n",
        "```\n",
        "\n",
        "\n",
        "Consider an implementation of a singly linked list, where each node is created using the given class Node. Suppose it has a head variable that contains the reference to the first node of the linked list.\n",
        "\n",
        "You are given non-empty unsorted singly linked list containing integers. Your task is to remove all duplicate elements from the list. The relative order of the first occurrence of distinct elements should be preserved in the output linked fist.\n",
        "\n",
        "Complete the function remove_duplicate(head), that removes nodes with duplicate values from the given linked list. The function should modify the same input-linked list and should Not return any value.\n",
        "\n",
        "Sample input\n",
        "1 3 1 2 1 3 3 4 7 4 1 5 9 9 #Input Linked list elenents\n",
        "\n",
        "Output\n",
        "Output Linked List: 1 3 2 4 7 5 9 @Linked List elements after removing duplicates\n",
        "\n"
      ],
      "metadata": {
        "id": "DSKNcOjxmB8A"
      }
    },
    {
      "cell_type": "code",
      "execution_count": 2,
      "metadata": {
        "colab": {
          "base_uri": "https://localhost:8080/"
        },
        "id": "EwtmTDRXl_br",
        "outputId": "ef34a68f-478b-46f9-ebc3-21b7b80e37fc"
      },
      "outputs": [
        {
          "output_type": "stream",
          "name": "stdout",
          "text": [
            "1 3 2 4 7 5 9 "
          ]
        }
      ],
      "source": [
        "class Node:\n",
        "    def __init__(self, data=None):\n",
        "        self.data = data # Stores data\n",
        "        self.next = None # Contains reference to the next node if it exists, otherwise None\n",
        "\n",
        "\n",
        "def remove_duplicate(head):\n",
        "  seen = set()\n",
        "\n",
        "  if head == None:\n",
        "    return\n",
        "\n",
        "  seen.add(head.data)\n",
        "  current_node = head\n",
        "\n",
        "  ## iterate through each node one by one:\n",
        "  while current_node.next:\n",
        "    if current_node.next.data in seen:\n",
        "      current_node.next = current_node.next.next\n",
        "    else:\n",
        "      seen.add(current_node.next.data)\n",
        "      current_node = current_node.next\n",
        "\n",
        "def create_linked_list(values):\n",
        "    head = Node(values[0])\n",
        "    current_node = head\n",
        "    for value in values[1:]:\n",
        "        current_node.next = Node(value)\n",
        "        current_node = current_node.next\n",
        "    return head\n",
        "\n",
        "# Sample Input\n",
        "values = [1, 1, 1, 3, 3, 3, 2, 1, 3, 3, 4, 7, 4, 1, 5, 9, 9]\n",
        "head = create_linked_list(values)\n",
        "\n",
        "remove_duplicate(head)\n",
        "\n",
        "current_node = head\n",
        "while current_node:\n",
        "    print(current_node.data, end=\" \")\n",
        "    current_node = current_node.next\n",
        "# Output: 1 3 2 4 7 5 9"
      ]
    },
    {
      "cell_type": "code",
      "source": [],
      "metadata": {
        "id": "22_vhOgpokRu"
      },
      "execution_count": null,
      "outputs": []
    }
  ]
}