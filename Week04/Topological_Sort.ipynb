{
  "nbformat": 4,
  "nbformat_minor": 0,
  "metadata": {
    "colab": {
      "provenance": []
    },
    "kernelspec": {
      "name": "python3",
      "display_name": "Python 3"
    },
    "language_info": {
      "name": "python"
    }
  },
  "cells": [
    {
      "cell_type": "code",
      "source": [
        "## QUEUE CLASS\n",
        "class Queue:\n",
        "  def __init__(self):\n",
        "    self.queue = []\n",
        "\n",
        "  def addq(self,v):\n",
        "    self.queue.append(v)\n",
        "\n",
        "  def delq(self):\n",
        "    v = None\n",
        "    if not self.isempty():\n",
        "      v = self.queue[0]\n",
        "      self.queue = self.queue[1:]\n",
        "    return(v)\n",
        "\n",
        "  def isempty(self):\n",
        "    return(self.queue == [])\n",
        "\n",
        "  def __str__(self):\n",
        "    return(str(self.queue))"
      ],
      "metadata": {
        "id": "IVwa4id0GUPg"
      },
      "execution_count": 2,
      "outputs": []
    },
    {
      "cell_type": "code",
      "execution_count": 5,
      "metadata": {
        "id": "HPbqCzjTj61B"
      },
      "outputs": [],
      "source": [
        "## Graph Representation\n",
        "graph = {\n",
        "    'A' : ['B','C','D'],\n",
        "    'B' : ['E'],\n",
        "    'C' : ['E', 'F'],\n",
        "    'D' : ['F'],\n",
        "    'E' : ['G'],\n",
        "    'F' : ['G'],\n",
        "    'G' : []\n",
        "}"
      ]
    },
    {
      "cell_type": "code",
      "source": [
        "def TopSortList(graph):\n",
        "  (inDegree, topSortList) = ({},[])\n",
        "  for u in graph:\n",
        "    inDegree[u] = 0\n",
        "\n",
        "  ## computing indegree by scanning adjacency list\n",
        "  for u in  graph:\n",
        "    for v in graph[u]:\n",
        "      inDegree[v] += 1\n",
        "\n",
        "  ## Enumerate the head of the queue, update indegree and add indegree to the queue\n",
        "  zerodegreeq = Queue()\n",
        "  for u in graph:\n",
        "    if inDegree[u] == 0:\n",
        "      zerodegreeq.addq(u)\n",
        "\n",
        "  ## Repeat till the queue is empty\n",
        "  while not zerodegreeq.isempty():\n",
        "    j = zerodegreeq.delq()\n",
        "    topSortList.append(j)\n",
        "    inDegree[j] = inDegree[j] - 1\n",
        "    for k in graph[j]:\n",
        "      inDegree[k] = inDegree[k] - 1\n",
        "      if inDegree[k] == 0:\n",
        "        zerodegreeq.addq(k)\n",
        "  return(topSortList)\n"
      ],
      "metadata": {
        "id": "_4TRPMjhk9W8"
      },
      "execution_count": 8,
      "outputs": []
    },
    {
      "cell_type": "code",
      "source": [
        "TopSortList(graph)"
      ],
      "metadata": {
        "colab": {
          "base_uri": "https://localhost:8080/"
        },
        "id": "0sNToddFqLSm",
        "outputId": "37b1760c-c2ae-4996-f32f-093321d97c6b"
      },
      "execution_count": 9,
      "outputs": [
        {
          "output_type": "execute_result",
          "data": {
            "text/plain": [
              "['A', 'B', 'C', 'D', 'E', 'F', 'G']"
            ]
          },
          "metadata": {},
          "execution_count": 9
        }
      ]
    },
    {
      "cell_type": "code",
      "source": [],
      "metadata": {
        "id": "OeBmA_B2qkjA"
      },
      "execution_count": null,
      "outputs": []
    }
  ]
}