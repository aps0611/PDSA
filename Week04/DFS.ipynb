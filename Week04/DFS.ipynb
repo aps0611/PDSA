{
  "nbformat": 4,
  "nbformat_minor": 0,
  "metadata": {
    "colab": {
      "provenance": []
    },
    "kernelspec": {
      "name": "python3",
      "display_name": "Python 3"
    },
    "language_info": {
      "name": "python"
    }
  },
  "cells": [
    {
      "cell_type": "markdown",
      "metadata": {
        "id": "tJQVlEp0nF49"
      },
      "source": [
        "**Depth First Search Implementation**\n",
        "\n",
        "**Used Data Structure : Stack**"
      ]
    },
    {
      "cell_type": "code",
      "execution_count": 1,
      "metadata": {
        "colab": {
          "base_uri": "https://localhost:8080/"
        },
        "id": "vMktfdag2Gc5",
        "outputId": "e7af43fd-271e-4ede-8192-1b9568d37321"
      },
      "outputs": [
        {
          "output_type": "stream",
          "name": "stdout",
          "text": [
            "A B E G C F D "
          ]
        }
      ],
      "source": [
        "## Graph Representation\n",
        "graph = {\n",
        "    'A' : ['B','C','D'],\n",
        "    'B' : ['E'],\n",
        "    'C' : ['E', 'F'],\n",
        "    'D' : ['F'],\n",
        "    'E' : ['G'],\n",
        "    'F' : ['G'],\n",
        "    'G' : []\n",
        "}\n",
        "\n",
        "## visited set is to keep track of visited nodes\n",
        "visited = set()\n",
        "\n",
        "## Method Definition\n",
        "def depth_first_search(visited, graph, node):\n",
        "  if node not in visited:\n",
        "    print(node, end = \" \")\n",
        "    visited.add(node)\n",
        "    for adjacent in graph[node]:\n",
        "      ## Recursive call - Stack Data Structure\n",
        "      depth_first_search(visited, graph, adjacent)\n",
        "\n",
        "## Driver Code\n",
        "## Function Call\n",
        "depth_first_search(visited, graph, 'A')"
      ]
    },
    {
      "cell_type": "markdown",
      "metadata": {
        "id": "c8b85F6anZkf"
      },
      "source": [
        "**Time Complexity : O(V + E)**"
      ]
    },
    {
      "cell_type": "code",
      "source": [],
      "metadata": {
        "id": "SXa_Hfjq2vVt"
      },
      "execution_count": null,
      "outputs": []
    }
  ]
}