{
  "nbformat": 4,
  "nbformat_minor": 0,
  "metadata": {
    "colab": {
      "provenance": []
    },
    "kernelspec": {
      "name": "python3",
      "display_name": "Python 3"
    },
    "language_info": {
      "name": "python"
    }
  },
  "cells": [
    {
      "cell_type": "markdown",
      "metadata": {
        "id": "pDe4lPHwn3Gi"
      },
      "source": [
        "**Breadth First Search Implementation**\n",
        "\n",
        "**Used Data Structure : Queue**"
      ]
    },
    {
      "cell_type": "code",
      "source": [
        "## QUEUE CLASS\n",
        "class Queue:\n",
        "  def __init__(self):\n",
        "    self.queue = []\n",
        "\n",
        "  def addq(self,v):\n",
        "    self.queue.append(v)\n",
        "\n",
        "  def delq(self):\n",
        "    v = None\n",
        "    if not self.isempty():\n",
        "      v = self.queue[0]\n",
        "      self.queue = self.queue[1:]\n",
        "    return(v)\n",
        "\n",
        "  def isempty(self):\n",
        "    return(self.queue == [])\n",
        "\n",
        "  def __str__(self):\n",
        "    return(str(self.queue))"
      ],
      "metadata": {
        "id": "IVwa4id0GUPg"
      },
      "execution_count": 43,
      "outputs": []
    },
    {
      "cell_type": "code",
      "source": [
        "## How does the queue datastructure works?\n",
        "\n",
        "## Start with an empty queue\n",
        "q = Queue()\n",
        "\n",
        "## loop\n",
        "for i in range(3):\n",
        "  q.addq(i)\n",
        "  print(q)\n",
        "  print('---'*5)\n",
        "print(q.isempty())\n",
        "\n",
        "\n",
        "## loop\n",
        "for j in range(3):\n",
        "  print(q.delq(),q)\n",
        "  print('---'*5)\n",
        "print(q.isempty())"
      ],
      "metadata": {
        "colab": {
          "base_uri": "https://localhost:8080/"
        },
        "id": "-ZDU7Jh_IbYH",
        "outputId": "d19efa96-f56e-43ed-c7ca-d161f0edac9e"
      },
      "execution_count": 44,
      "outputs": [
        {
          "output_type": "stream",
          "name": "stdout",
          "text": [
            "[0]\n",
            "---------------\n",
            "[0, 1]\n",
            "---------------\n",
            "[0, 1, 2]\n",
            "---------------\n",
            "False\n",
            "0 [1, 2]\n",
            "---------------\n",
            "1 [2]\n",
            "---------------\n",
            "2 []\n",
            "---------------\n",
            "True\n"
          ]
        }
      ]
    },
    {
      "cell_type": "code",
      "execution_count": 45,
      "metadata": {
        "id": "TRakKdTRFr9F"
      },
      "outputs": [],
      "source": [
        "## Graph Representation\n",
        "\n",
        "graph = {\n",
        "    'A' : ['B','C','D'],\n",
        "    'B' : ['E'],\n",
        "    'C' : ['E', 'F'],\n",
        "    'D' : ['F'],\n",
        "    'E' : ['G'],\n",
        "    'F' : ['G'],\n",
        "    'G' : []\n",
        "}"
      ]
    },
    {
      "cell_type": "markdown",
      "source": [
        "BFS"
      ],
      "metadata": {
        "id": "0aHo4YinOAbf"
      }
    },
    {
      "cell_type": "code",
      "source": [
        "## using dictionary pairs/ Adjacency List\n",
        "def BFS(graph, node):\n",
        "\n",
        "  visited = set() ## visited set to keep track\n",
        "\n",
        "  q = Queue() ## initialize queue\n",
        "\n",
        "  visited.add(node)\n",
        "  q.addq(node)\n",
        "\n",
        "  while q.isempty()==False:\n",
        "    node = q.delq() # pop\n",
        "    print(node)\n",
        "    for c in graph[node]:\n",
        "      if c not in visited:\n",
        "        visited.add(c)\n",
        "        q.addq(c)\n",
        "\n",
        "## driver code\n",
        "BFS(graph, 'A')"
      ],
      "metadata": {
        "colab": {
          "base_uri": "https://localhost:8080/"
        },
        "id": "TRooaKoBJmq2",
        "outputId": "63c2dd0f-9210-470e-a402-47c8db54e3e7"
      },
      "execution_count": 54,
      "outputs": [
        {
          "output_type": "stream",
          "name": "stdout",
          "text": [
            "A\n",
            "B\n",
            "C\n",
            "D\n",
            "E\n",
            "F\n",
            "G\n"
          ]
        }
      ]
    },
    {
      "cell_type": "markdown",
      "metadata": {
        "id": "qAsdHjQxq9M3"
      },
      "source": [
        "**Time Complexity : O(V + E)**"
      ]
    },
    {
      "cell_type": "code",
      "source": [
        "## Matrix implementation\n",
        "\n",
        "def BFSMat(MAT, w):\n",
        "  (rows,cols) = MAT.shape\n",
        "  visited = {}\n",
        "  # Initially visited false for all vertex\n",
        "  for i in range(rows):\n",
        "    visited[i]= False\n",
        "\n",
        "  q = Queue()\n",
        "\n",
        "  ## Start BFS from vertex w\n",
        "  visited[w] = True\n",
        "  q.addq(w)\n",
        "\n",
        "  while (not q.isempty()):\n",
        "    j = q.delq()\n",
        "    for k in neighbours(Mat, j):\n",
        "      if (not visited[k]):\n",
        "        visited[k] = True\n",
        "        q.addq(k)\n",
        "\n",
        "  return(visited)"
      ],
      "metadata": {
        "id": "o5_ssjYUOFjr"
      },
      "execution_count": 47,
      "outputs": []
    },
    {
      "cell_type": "markdown",
      "source": [
        "**Time Complexity : O(V^2)**"
      ],
      "metadata": {
        "id": "tVbW5PFWaDKE"
      }
    },
    {
      "cell_type": "markdown",
      "source": [
        "## Enhancing BFS to record the paths"
      ],
      "metadata": {
        "id": "lXy4J3GUafsn"
      }
    },
    {
      "cell_type": "code",
      "source": [
        "graph = {\n",
        "    'A' : ['B','C','D'],\n",
        "    'B' : ['E'],\n",
        "    'C' : ['E', 'F'],\n",
        "    'D' : ['F'],\n",
        "    'E' : ['G'],\n",
        "    'F' : ['G'],\n",
        "    'G' : []\n",
        "}"
      ],
      "metadata": {
        "id": "hFBaLfrGcLJj"
      },
      "execution_count": 48,
      "outputs": []
    },
    {
      "cell_type": "code",
      "source": [
        "def BFSListPath(graph,v):\n",
        "  (visited, parent) = ({},{})\n",
        "  for node in graph:\n",
        "    parent[node] = -1\n",
        "    visited[node] = False\n",
        "\n",
        "  q = Queue()\n",
        "\n",
        "  ## Set the first node as visited\n",
        "  visited[v] = True\n",
        "  q.addq(v)\n",
        "\n",
        "  while (not q.isempty()):\n",
        "    j = q.delq()\n",
        "    for k in graph[j]:\n",
        "      if not visited[k]:\n",
        "        visited[k] = True\n",
        "        parent[k] = j\n",
        "        q.addq(k)\n",
        "\n",
        "  return(visited, parent)\n",
        "\n",
        "## Driver code\n",
        "BFSListPath(graph, 'A')"
      ],
      "metadata": {
        "colab": {
          "base_uri": "https://localhost:8080/"
        },
        "id": "VVoXzp9PSqsG",
        "outputId": "25e021c4-ccb5-463b-d4b0-6b89b85d60ba"
      },
      "execution_count": 49,
      "outputs": [
        {
          "output_type": "execute_result",
          "data": {
            "text/plain": [
              "({'A': True, 'B': True, 'C': True, 'D': True, 'E': True, 'F': True, 'G': True},\n",
              " {'A': -1, 'B': 'A', 'C': 'A', 'D': 'A', 'E': 'B', 'F': 'C', 'G': 'E'})"
            ]
          },
          "metadata": {},
          "execution_count": 49
        }
      ]
    },
    {
      "cell_type": "markdown",
      "source": [
        "## Recording the distance"
      ],
      "metadata": {
        "id": "iTbmiVMpfxle"
      }
    },
    {
      "cell_type": "code",
      "source": [
        "graph = {\n",
        "    'A' : ['B','C','D'],\n",
        "    'B' : ['E'],\n",
        "    'C' : ['E', 'F'],\n",
        "    'D' : ['F'],\n",
        "    'E' : ['G'],\n",
        "    'F' : ['G'],\n",
        "    'G' : []\n",
        "}"
      ],
      "metadata": {
        "id": "GnQxQovhcdIf"
      },
      "execution_count": 50,
      "outputs": []
    },
    {
      "cell_type": "code",
      "source": [
        "def BFSPath(graph,v):\n",
        "  (level, parent) = ({},{})\n",
        "  for node in graph:\n",
        "    parent[node] = -1\n",
        "    level[node] = -1\n",
        "\n",
        "  q = Queue()\n",
        "\n",
        "  level[v] = 0\n",
        "  q.addq(v)\n",
        "\n",
        "  while (not q.isempty()):\n",
        "    j = q.delq()\n",
        "    for k in graph[j]:\n",
        "      if level[k] == -1:\n",
        "        level[k] = level[j] + 1\n",
        "        parent[k] = j\n",
        "        q.addq(k)\n",
        "  return level, parent\n",
        "\n",
        "BFSPath(graph, 'A')"
      ],
      "metadata": {
        "colab": {
          "base_uri": "https://localhost:8080/"
        },
        "id": "q5PEu3zkcfwE",
        "outputId": "9129ae9b-9915-473d-ab4c-4d64b9b31d88"
      },
      "execution_count": 52,
      "outputs": [
        {
          "output_type": "execute_result",
          "data": {
            "text/plain": [
              "({'A': 0, 'B': 1, 'C': 1, 'D': 1, 'E': 2, 'F': 2, 'G': 3},\n",
              " {'A': -1, 'B': 'A', 'C': 'A', 'D': 'A', 'E': 'B', 'F': 'C', 'G': 'E'})"
            ]
          },
          "metadata": {},
          "execution_count": 52
        }
      ]
    },
    {
      "cell_type": "code",
      "source": [],
      "metadata": {
        "id": "B4lf7BYQvdYc"
      },
      "execution_count": null,
      "outputs": []
    }
  ]
}