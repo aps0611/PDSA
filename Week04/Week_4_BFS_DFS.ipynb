{
  "nbformat": 4,
  "nbformat_minor": 5,
  "metadata": {
    "kernelspec": {
      "display_name": "Python 3",
      "language": "python",
      "name": "python3"
    },
    "language_info": {
      "codemirror_mode": {
        "name": "ipython",
        "version": 3
      },
      "file_extension": ".py",
      "mimetype": "text/x-python",
      "name": "python",
      "nbconvert_exporter": "python",
      "pygments_lexer": "ipython3",
      "version": "3.7.7"
    },
    "colab": {
      "provenance": []
    }
  },
  "cells": [
    {
      "cell_type": "code",
      "metadata": {
        "id": "84d5c8db"
      },
      "source": [
        "class Queue:\n",
        "    def __init__(self):\n",
        "        self.queue = []\n",
        "\n",
        "    def addq(self,v):\n",
        "        self.queue.append(v)\n",
        "\n",
        "    def delq(self):\n",
        "        v = None\n",
        "        if not self.isempty():\n",
        "            v = self.queue[0]\n",
        "            self.queue = self.queue[1:]\n",
        "        return(v)\n",
        "\n",
        "    def isempty(self):\n",
        "        return(self.queue == [])\n",
        "\n",
        "    def __str__(self):\n",
        "        return(str(self.queue))"
      ],
      "id": "84d5c8db",
      "execution_count": 21,
      "outputs": []
    },
    {
      "cell_type": "code",
      "metadata": {
        "id": "fae34e5d",
        "outputId": "7233ba00-3aac-48fb-c572-6883e11a7db6",
        "colab": {
          "base_uri": "https://localhost:8080/"
        }
      },
      "source": [
        "q = Queue()\n",
        "\n",
        "for i in range(3):\n",
        "    q.addq(i)\n",
        "    print(q)\n",
        "print(q.isempty())\n",
        "\n",
        "for j in range(3):\n",
        "    print(q.delq(),q)\n",
        "print(q.isempty())"
      ],
      "id": "fae34e5d",
      "execution_count": 22,
      "outputs": [
        {
          "output_type": "stream",
          "name": "stdout",
          "text": [
            "[0]\n",
            "[0, 1]\n",
            "[0, 1, 2]\n",
            "False\n",
            "0 [1, 2]\n",
            "1 [2]\n",
            "2 []\n",
            "True\n"
          ]
        }
      ]
    },
    {
      "cell_type": "markdown",
      "metadata": {
        "id": "47e4e2c0"
      },
      "source": [
        "### Adjacency matrix example"
      ],
      "id": "47e4e2c0"
    },
    {
      "cell_type": "code",
      "metadata": {
        "id": "f54cb805"
      },
      "source": [
        "edges = [(0,1),(0,4),(1,2),(2,0),\n",
        "         (3,4),(3,6),(4,0),(4,3),\n",
        "#edges = [(0,1),(1,2),(2,0),\n",
        "#         (3,4),(3,6),(4,3),\n",
        "         (4,7),(5,3),(5,7),\n",
        "         (6,5),(7,4),(7,8),\n",
        "#        (8,9),(9,8)]\n",
        "         (8,5),(8,9),(9,8)]\n",
        "uedges = edges + [ (j,i) for (i,j) in edges]"
      ],
      "id": "f54cb805",
      "execution_count": 23,
      "outputs": []
    },
    {
      "cell_type": "code",
      "source": [],
      "metadata": {
        "id": "tXTvO8F0yNnw"
      },
      "id": "tXTvO8F0yNnw",
      "execution_count": 23,
      "outputs": []
    },
    {
      "cell_type": "code",
      "metadata": {
        "id": "38f82b6a",
        "outputId": "09cdcf40-77b5-46c7-c036-eb83dcc445bb",
        "colab": {
          "base_uri": "https://localhost:8080/"
        }
      },
      "source": [
        "size = 10\n",
        "import numpy as np\n",
        "A = np.zeros(shape=(size,size))\n",
        "for (i,j) in edges:\n",
        "  A[i,j] = 1\n",
        "print(A)"
      ],
      "id": "38f82b6a",
      "execution_count": 24,
      "outputs": [
        {
          "output_type": "stream",
          "name": "stdout",
          "text": [
            "[[0. 1. 0. 0. 1. 0. 0. 0. 0. 0.]\n",
            " [0. 0. 1. 0. 0. 0. 0. 0. 0. 0.]\n",
            " [1. 0. 0. 0. 0. 0. 0. 0. 0. 0.]\n",
            " [0. 0. 0. 0. 1. 0. 1. 0. 0. 0.]\n",
            " [1. 0. 0. 1. 0. 0. 0. 1. 0. 0.]\n",
            " [0. 0. 0. 1. 0. 0. 0. 1. 0. 0.]\n",
            " [0. 0. 0. 0. 0. 1. 0. 0. 0. 0.]\n",
            " [0. 0. 0. 0. 1. 0. 0. 0. 1. 0.]\n",
            " [0. 0. 0. 0. 0. 1. 0. 0. 0. 1.]\n",
            " [0. 0. 0. 0. 0. 0. 0. 0. 1. 0.]]\n"
          ]
        }
      ]
    },
    {
      "cell_type": "code",
      "metadata": {
        "id": "ebfc7f16"
      },
      "source": [
        "def neighbours(AMat,i):\n",
        "    nbrs = []\n",
        "    (rows,cols) = AMat.shape\n",
        "    for j in range(cols):\n",
        "        if AMat[i,j] == 1:\n",
        "            nbrs.append(j)\n",
        "    return(nbrs)"
      ],
      "id": "ebfc7f16",
      "execution_count": 25,
      "outputs": []
    },
    {
      "cell_type": "code",
      "metadata": {
        "id": "f5146993",
        "outputId": "83321e45-0062-4a1f-894c-24f7f4407af8",
        "colab": {
          "base_uri": "https://localhost:8080/"
        }
      },
      "source": [
        "neighbours(A,7)"
      ],
      "id": "f5146993",
      "execution_count": 26,
      "outputs": [
        {
          "output_type": "execute_result",
          "data": {
            "text/plain": [
              "[4, 8]"
            ]
          },
          "metadata": {},
          "execution_count": 26
        }
      ]
    },
    {
      "cell_type": "markdown",
      "metadata": {
        "id": "f131c29b"
      },
      "source": [
        "### Adjacency list example"
      ],
      "id": "f131c29b"
    },
    {
      "cell_type": "code",
      "metadata": {
        "id": "98539ecc",
        "outputId": "931f8b2e-153a-4bd4-ff74-78620c4eb1c6",
        "colab": {
          "base_uri": "https://localhost:8080/"
        }
      },
      "source": [
        "size = 10\n",
        "AL = {}\n",
        "for i in range(size):\n",
        "    AL[i] = []\n",
        "for (i,j) in edges:\n",
        "    AL[i].append(j)\n",
        "print(AL)"
      ],
      "id": "98539ecc",
      "execution_count": 27,
      "outputs": [
        {
          "output_type": "stream",
          "name": "stdout",
          "text": [
            "{0: [1, 4], 1: [2], 2: [0], 3: [4, 6], 4: [0, 3, 7], 5: [3, 7], 6: [5], 7: [4, 8], 8: [5, 9], 9: [8]}\n"
          ]
        }
      ]
    },
    {
      "cell_type": "markdown",
      "metadata": {
        "id": "0548ca5c"
      },
      "source": [
        "### BFS"
      ],
      "id": "0548ca5c"
    },
    {
      "cell_type": "code",
      "metadata": {
        "id": "f9f49e89"
      },
      "source": [
        "def BFS(AMat,v):\n",
        "    (rows,cols) = AMat.shape\n",
        "    visited = {}\n",
        "    for i in range(rows):\n",
        "        visited[i] = False\n",
        "    q = Queue()\n",
        "\n",
        "    visited[v] = True\n",
        "    q.addq(v)\n",
        "\n",
        "    while(not q.isempty()):\n",
        "        j = q.delq()\n",
        "        for k in neighbours(AMat,j):\n",
        "            if (not visited[k]):\n",
        "                visited[k] = True\n",
        "                q.addq(k)\n",
        "\n",
        "    return(visited)"
      ],
      "id": "f9f49e89",
      "execution_count": 28,
      "outputs": []
    },
    {
      "cell_type": "code",
      "metadata": {
        "id": "1534cf7a",
        "outputId": "fa89731c-798a-4c03-fcc3-938be4289efe",
        "colab": {
          "base_uri": "https://localhost:8080/"
        }
      },
      "source": [
        "BFS(A,0),A"
      ],
      "id": "1534cf7a",
      "execution_count": 29,
      "outputs": [
        {
          "output_type": "execute_result",
          "data": {
            "text/plain": [
              "({0: True,\n",
              "  1: True,\n",
              "  2: True,\n",
              "  3: True,\n",
              "  4: True,\n",
              "  5: True,\n",
              "  6: True,\n",
              "  7: True,\n",
              "  8: True,\n",
              "  9: True},\n",
              " array([[0., 1., 0., 0., 1., 0., 0., 0., 0., 0.],\n",
              "        [0., 0., 1., 0., 0., 0., 0., 0., 0., 0.],\n",
              "        [1., 0., 0., 0., 0., 0., 0., 0., 0., 0.],\n",
              "        [0., 0., 0., 0., 1., 0., 1., 0., 0., 0.],\n",
              "        [1., 0., 0., 1., 0., 0., 0., 1., 0., 0.],\n",
              "        [0., 0., 0., 1., 0., 0., 0., 1., 0., 0.],\n",
              "        [0., 0., 0., 0., 0., 1., 0., 0., 0., 0.],\n",
              "        [0., 0., 0., 0., 1., 0., 0., 0., 1., 0.],\n",
              "        [0., 0., 0., 0., 0., 1., 0., 0., 0., 1.],\n",
              "        [0., 0., 0., 0., 0., 0., 0., 0., 1., 0.]]))"
            ]
          },
          "metadata": {},
          "execution_count": 29
        }
      ]
    },
    {
      "cell_type": "code",
      "metadata": {
        "id": "5a8037bc"
      },
      "source": [
        "def BFSList(AList,v):\n",
        "    visited = {}\n",
        "    for i in AList.keys():\n",
        "        visited[i] = False\n",
        "    q = Queue()\n",
        "\n",
        "    visited[v] = True\n",
        "    q.addq(v)\n",
        "\n",
        "    while(not q.isempty()):\n",
        "        j = q.delq()\n",
        "        for k in AList[j]:\n",
        "            if (not visited[k]):\n",
        "                visited[k] = True\n",
        "                q.addq(k)\n",
        "\n",
        "    return(visited)"
      ],
      "id": "5a8037bc",
      "execution_count": 30,
      "outputs": []
    },
    {
      "cell_type": "code",
      "metadata": {
        "id": "c3f26d14",
        "outputId": "193ac0f9-4991-4ca9-ec6d-61b161b952a7",
        "colab": {
          "base_uri": "https://localhost:8080/"
        }
      },
      "source": [
        "BFSList(AL,0)"
      ],
      "id": "c3f26d14",
      "execution_count": 31,
      "outputs": [
        {
          "output_type": "execute_result",
          "data": {
            "text/plain": [
              "{0: True,\n",
              " 1: True,\n",
              " 2: True,\n",
              " 3: True,\n",
              " 4: True,\n",
              " 5: True,\n",
              " 6: True,\n",
              " 7: True,\n",
              " 8: True,\n",
              " 9: True}"
            ]
          },
          "metadata": {},
          "execution_count": 31
        }
      ]
    },
    {
      "cell_type": "code",
      "metadata": {
        "id": "9ec258a0"
      },
      "source": [
        "def BFSListPath(AList,v):\n",
        "  '''\n",
        "  this function performs BFS starting from a given vertex v and returns\n",
        "  two dictionaries: visited, which tells you which vertices are reachable from v,\n",
        "  and parent, which gives you the shortest path tree with parent information\n",
        "  to reach each vertex from v.\n",
        "  '''\n",
        "  (visited,parent) = ({},{})\n",
        "  for i in AList.keys():\n",
        "      visited[i] = False\n",
        "      parent[i] = -1\n",
        "  q = Queue()\n",
        "\n",
        "  visited[v] = True\n",
        "  q.addq(v)\n",
        "\n",
        "  while(not q.isempty()):\n",
        "      j = q.delq()\n",
        "      for k in AList[j]:\n",
        "        if (not visited[k]):\n",
        "          visited[k] = True\n",
        "          parent[k] = j\n",
        "          q.addq(k)\n",
        "\n",
        "  return(visited,parent)\n",
        "\n",
        "\n",
        "## By following the chain of parent pointers from any vertex back to the starting\n",
        "## vertex v, we can reconstruct the path from v to that vertex."
      ],
      "id": "9ec258a0",
      "execution_count": 32,
      "outputs": []
    },
    {
      "cell_type": "code",
      "metadata": {
        "id": "b7f77c10",
        "outputId": "16c481f9-9ad4-4278-f356-4e845a34dcb7",
        "colab": {
          "base_uri": "https://localhost:8080/"
        }
      },
      "source": [
        "BFSListPath(AL,0),AL"
      ],
      "id": "b7f77c10",
      "execution_count": 33,
      "outputs": [
        {
          "output_type": "execute_result",
          "data": {
            "text/plain": [
              "(({0: True,\n",
              "   1: True,\n",
              "   2: True,\n",
              "   3: True,\n",
              "   4: True,\n",
              "   5: True,\n",
              "   6: True,\n",
              "   7: True,\n",
              "   8: True,\n",
              "   9: True},\n",
              "  {0: -1, 1: 0, 2: 1, 3: 4, 4: 0, 5: 6, 6: 3, 7: 4, 8: 7, 9: 8}),\n",
              " {0: [1, 4],\n",
              "  1: [2],\n",
              "  2: [0],\n",
              "  3: [4, 6],\n",
              "  4: [0, 3, 7],\n",
              "  5: [3, 7],\n",
              "  6: [5],\n",
              "  7: [4, 8],\n",
              "  8: [5, 9],\n",
              "  9: [8]})"
            ]
          },
          "metadata": {},
          "execution_count": 33
        }
      ]
    },
    {
      "cell_type": "code",
      "metadata": {
        "id": "58113bc1"
      },
      "source": [
        "def BFSListPathLevel(AList,v):\n",
        "    (level,parent) = ({},{})\n",
        "    for i in AList.keys():\n",
        "        level[i] = -1\n",
        "        parent[i] = -1\n",
        "    q = Queue()\n",
        "\n",
        "    level[v] = 0\n",
        "    q.addq(v)\n",
        "\n",
        "    while(not q.isempty()):\n",
        "        j = q.delq()\n",
        "        for k in AList[j]:\n",
        "            if (level[k] == -1):\n",
        "                level[k] = level[j]+1\n",
        "                parent[k] = j\n",
        "                q.addq(k)\n",
        "\n",
        "    return(level,parent)"
      ],
      "id": "58113bc1",
      "execution_count": 34,
      "outputs": []
    },
    {
      "cell_type": "code",
      "metadata": {
        "id": "085374ec",
        "outputId": "ed3f78ee-5dec-4fd4-a169-528e01378ba8",
        "colab": {
          "base_uri": "https://localhost:8080/"
        }
      },
      "source": [
        "BFSListPathLevel(AL,0)"
      ],
      "id": "085374ec",
      "execution_count": 35,
      "outputs": [
        {
          "output_type": "execute_result",
          "data": {
            "text/plain": [
              "({0: 0, 1: 1, 2: 2, 3: 2, 4: 1, 5: 4, 6: 3, 7: 2, 8: 3, 9: 4},\n",
              " {0: -1, 1: 0, 2: 1, 3: 4, 4: 0, 5: 6, 6: 3, 7: 4, 8: 7, 9: 8})"
            ]
          },
          "metadata": {},
          "execution_count": 35
        }
      ]
    },
    {
      "cell_type": "markdown",
      "metadata": {
        "id": "af508165"
      },
      "source": [
        "### DFS"
      ],
      "id": "af508165"
    },
    {
      "cell_type": "code",
      "metadata": {
        "id": "940a069f"
      },
      "source": [
        "def DFSInit(AMat):\n",
        "    # Initialization\n",
        "    (rows,cols) = AMat.shape\n",
        "    (visited,parent) = ({},{})\n",
        "    for i in range(rows):\n",
        "        visited[i] = False\n",
        "        parent[i] = -1\n",
        "    return(visited,parent)\n",
        "\n",
        "def DFS(AMat,visited,parent,v):\n",
        "    visited[v] = True\n",
        "\n",
        "    for k in neighbours(AMat,v):\n",
        "        if (not visited[k]):\n",
        "            parent[k] = v\n",
        "            (visited,parent) = DFS(AMat,visited,parent,k)\n",
        "\n",
        "    return(visited,parent)"
      ],
      "id": "940a069f",
      "execution_count": 36,
      "outputs": []
    },
    {
      "cell_type": "code",
      "metadata": {
        "id": "8a41249a",
        "outputId": "4f82b181-c542-41b5-be98-a50bc8e52b99",
        "colab": {
          "base_uri": "https://localhost:8080/"
        }
      },
      "source": [
        "(v,p) = DFSInit(A)\n",
        "DFS(A,v,p,3)"
      ],
      "id": "8a41249a",
      "execution_count": 37,
      "outputs": [
        {
          "output_type": "execute_result",
          "data": {
            "text/plain": [
              "({0: True,\n",
              "  1: True,\n",
              "  2: True,\n",
              "  3: True,\n",
              "  4: True,\n",
              "  5: True,\n",
              "  6: True,\n",
              "  7: True,\n",
              "  8: True,\n",
              "  9: True},\n",
              " {0: 4, 1: 0, 2: 1, 3: -1, 4: 3, 5: 8, 6: 3, 7: 4, 8: 7, 9: 8})"
            ]
          },
          "metadata": {},
          "execution_count": 37
        }
      ]
    },
    {
      "cell_type": "code",
      "metadata": {
        "id": "95bba3be"
      },
      "source": [
        "def DFSInitList(AList):\n",
        "    # Initialization\n",
        "    (visited,parent) = ({},{})\n",
        "    for i in AList.keys():\n",
        "        visited[i] = False\n",
        "        parent[i] = -1\n",
        "    return(visited,parent)\n",
        "\n",
        "def DFSList(AList,visited,parent,v):\n",
        "    visited[v] = True\n",
        "\n",
        "    for k in AList[v]:\n",
        "        if (not visited[k]):\n",
        "            parent[k] = v\n",
        "            (visited,parent) = DFSList(AList,visited,parent,k)\n",
        "\n",
        "    return(visited,parent)"
      ],
      "id": "95bba3be",
      "execution_count": 38,
      "outputs": []
    },
    {
      "cell_type": "code",
      "metadata": {
        "id": "9448e52c",
        "outputId": "8338aada-91b4-40e3-a0b9-8646d59a321a",
        "colab": {
          "base_uri": "https://localhost:8080/"
        }
      },
      "source": [
        "(v,p) = DFSInitList(AL)\n",
        "DFSList(AL,v,p,3)"
      ],
      "id": "9448e52c",
      "execution_count": 39,
      "outputs": [
        {
          "output_type": "execute_result",
          "data": {
            "text/plain": [
              "({0: True,\n",
              "  1: True,\n",
              "  2: True,\n",
              "  3: True,\n",
              "  4: True,\n",
              "  5: True,\n",
              "  6: True,\n",
              "  7: True,\n",
              "  8: True,\n",
              "  9: True},\n",
              " {0: 4, 1: 0, 2: 1, 3: -1, 4: 3, 5: 8, 6: 3, 7: 4, 8: 7, 9: 8})"
            ]
          },
          "metadata": {},
          "execution_count": 39
        }
      ]
    },
    {
      "cell_type": "code",
      "metadata": {
        "id": "b86d2672"
      },
      "source": [
        "(visited,parent) = ({},{})\n",
        "\n",
        "def DFSInitGlobal(AMat):\n",
        "    # Initialization\n",
        "    (rows,cols) = AMat.shape\n",
        "    for i in range(rows):\n",
        "        visited[i] = False\n",
        "        parent[i] = -1\n",
        "    return\n",
        "\n",
        "def DFSGlobal(AMat,v):\n",
        "    visited[v] = True\n",
        "\n",
        "    for k in neighbours(AMat,v):\n",
        "        if (not visited[k]):\n",
        "            parent[k] = v\n",
        "            DFSGlobal(AMat,k)\n",
        "\n",
        "    return"
      ],
      "id": "b86d2672",
      "execution_count": 40,
      "outputs": []
    },
    {
      "cell_type": "code",
      "metadata": {
        "id": "3ce3b397",
        "outputId": "bfe787d1-90ac-4fb0-d791-367c6cd2a10c",
        "colab": {
          "base_uri": "https://localhost:8080/"
        }
      },
      "source": [
        "DFSInitGlobal(A)\n",
        "DFSGlobal(A,3)\n",
        "(visited,parent)"
      ],
      "id": "3ce3b397",
      "execution_count": 41,
      "outputs": [
        {
          "output_type": "execute_result",
          "data": {
            "text/plain": [
              "({0: True,\n",
              "  1: True,\n",
              "  2: True,\n",
              "  3: True,\n",
              "  4: True,\n",
              "  5: True,\n",
              "  6: True,\n",
              "  7: True,\n",
              "  8: True,\n",
              "  9: True},\n",
              " {0: 4, 1: 0, 2: 1, 3: -1, 4: 3, 5: 8, 6: 3, 7: 4, 8: 7, 9: 8})"
            ]
          },
          "metadata": {},
          "execution_count": 41
        }
      ]
    },
    {
      "cell_type": "code",
      "metadata": {
        "id": "3a3d8600"
      },
      "source": [
        "(visited,parent) = ({},{})\n",
        "\n",
        "def DFSInitListGlobal(AList):\n",
        "    # Initialization\n",
        "    for i in AList.keys():\n",
        "        visited[i] = False\n",
        "        parent[i] = -1\n",
        "    return\n",
        "\n",
        "def DFSListGlobal(AList,v):\n",
        "    visited[v] = True\n",
        "\n",
        "    for k in AList[v]:\n",
        "        if (not visited[k]):\n",
        "            parent[k] = v\n",
        "            DFSListGlobal(AList,k)\n",
        "\n",
        "    return"
      ],
      "id": "3a3d8600",
      "execution_count": 42,
      "outputs": []
    },
    {
      "cell_type": "code",
      "metadata": {
        "id": "e9b03436",
        "outputId": "1535442d-1973-4cd0-f3e1-ac42672c3100",
        "colab": {
          "base_uri": "https://localhost:8080/"
        }
      },
      "source": [
        "DFSInitListGlobal(AL)\n",
        "DFSListGlobal(AL,3)\n",
        "(visited,parent)"
      ],
      "id": "e9b03436",
      "execution_count": 43,
      "outputs": [
        {
          "output_type": "execute_result",
          "data": {
            "text/plain": [
              "({0: True,\n",
              "  1: True,\n",
              "  2: True,\n",
              "  3: True,\n",
              "  4: True,\n",
              "  5: True,\n",
              "  6: True,\n",
              "  7: True,\n",
              "  8: True,\n",
              "  9: True},\n",
              " {0: 4, 1: 0, 2: 1, 3: -1, 4: 3, 5: 8, 6: 3, 7: 4, 8: 7, 9: 8})"
            ]
          },
          "metadata": {},
          "execution_count": 43
        }
      ]
    },
    {
      "cell_type": "code",
      "metadata": {
        "id": "d78de1fc"
      },
      "source": [
        "def Components(AList):\n",
        "    component = {}\n",
        "    for i in AList.keys():\n",
        "        component[i] = -1\n",
        "\n",
        "    (compid,seen) = (0,0)\n",
        "\n",
        "    while seen < max(AList.keys()):\n",
        "        startv = min([i for i in AList.keys()\n",
        "                      if component[i] == -1])\n",
        "        visited = BFSList(AList,startv)\n",
        "        for i in visited.keys():\n",
        "            if visited[i]:\n",
        "                seen = seen + 1\n",
        "                component[i] = compid\n",
        "        compid = compid + 1\n",
        "\n",
        "    return(component)"
      ],
      "id": "d78de1fc",
      "execution_count": 44,
      "outputs": []
    },
    {
      "cell_type": "code",
      "metadata": {
        "id": "2badbd13",
        "outputId": "36538e7c-4630-4956-f75c-f69c4f018f74",
        "colab": {
          "base_uri": "https://localhost:8080/"
        }
      },
      "source": [
        "Components(AL)"
      ],
      "id": "2badbd13",
      "execution_count": 45,
      "outputs": [
        {
          "output_type": "execute_result",
          "data": {
            "text/plain": [
              "{0: 0, 1: 0, 2: 0, 3: 0, 4: 0, 5: 0, 6: 0, 7: 0, 8: 0, 9: 0}"
            ]
          },
          "metadata": {},
          "execution_count": 45
        }
      ]
    },
    {
      "cell_type": "code",
      "metadata": {
        "id": "33989a01"
      },
      "source": [
        "(visited,pre,post) = ({},{},{})\n",
        "\n",
        "def DFSInitPrePost(AList):\n",
        "    # Initialization\n",
        "    for i in AList.keys():\n",
        "        visited[i] = False\n",
        "        (pre[i],post[i]) = (-1,-1)\n",
        "    return\n",
        "\n",
        "def DFSListPrePost(AList,v,count):\n",
        "    visited[v] = True\n",
        "    pre[v] = count\n",
        "    count = count+1\n",
        "\n",
        "    for k in AList[v]:\n",
        "        if (not visited[k]):\n",
        "            count = DFSListPrePost(AList,k,count)\n",
        "    post[v] = count\n",
        "    count = count+1\n",
        "\n",
        "    return(count)"
      ],
      "id": "33989a01",
      "execution_count": 46,
      "outputs": []
    },
    {
      "cell_type": "code",
      "metadata": {
        "id": "c860d782",
        "outputId": "e65ff0ac-fe49-4466-96bd-96efe78b94b0",
        "colab": {
          "base_uri": "https://localhost:8080/"
        }
      },
      "source": [
        "DFSInitPrePost(AL)\n",
        "DFSListPrePost(AL,0,0)\n",
        "AL,(visited,pre,post)"
      ],
      "id": "c860d782",
      "execution_count": 47,
      "outputs": [
        {
          "output_type": "execute_result",
          "data": {
            "text/plain": [
              "({0: [1, 4],\n",
              "  1: [2],\n",
              "  2: [0],\n",
              "  3: [4, 6],\n",
              "  4: [0, 3, 7],\n",
              "  5: [3, 7],\n",
              "  6: [5],\n",
              "  7: [4, 8],\n",
              "  8: [5, 9],\n",
              "  9: [8]},\n",
              " ({0: True,\n",
              "   1: True,\n",
              "   2: True,\n",
              "   3: True,\n",
              "   4: True,\n",
              "   5: True,\n",
              "   6: True,\n",
              "   7: True,\n",
              "   8: True,\n",
              "   9: True},\n",
              "  {0: 0, 1: 1, 2: 2, 3: 6, 4: 5, 5: 8, 6: 7, 7: 9, 8: 10, 9: 11},\n",
              "  {0: 19, 1: 4, 2: 3, 3: 17, 4: 18, 5: 15, 6: 16, 7: 14, 8: 13, 9: 12}))"
            ]
          },
          "metadata": {},
          "execution_count": 47
        }
      ]
    },
    {
      "cell_type": "code",
      "metadata": {
        "id": "c1722b8a"
      },
      "source": [
        "edges=[(0,1),(1,0),(0,4),(4,0),(4,8),(8,4),(8,9),(9,8),(4,9),(9,4)]"
      ],
      "id": "c1722b8a",
      "execution_count": 48,
      "outputs": []
    },
    {
      "cell_type": "code",
      "metadata": {
        "id": "616ab415"
      },
      "source": [
        "def toposort(AMat):\n",
        "    (rows,cols) = AMat.shape\n",
        "    indegree = {}\n",
        "    toposortlist = []\n",
        "\n",
        "    for c in range(cols):\n",
        "        indegree[c] = 0\n",
        "        for r in range(rows):\n",
        "            if AMat[r,c] == 1:\n",
        "                indegree[c] = indegree[c] + 1\n",
        "\n",
        "    for i in range(rows):\n",
        "        j = min([k for k in range(cols)\n",
        "                 if indegree[k] == 0])\n",
        "        toposortlist.append(j)\n",
        "        indegree[j] = indegree[j]-1\n",
        "        for k in range(cols):\n",
        "            if AMat[j,k] == 1:\n",
        "                indegree[k] = indegree[k] - 1\n",
        "\n",
        "    return(toposortlist)"
      ],
      "id": "616ab415",
      "execution_count": 49,
      "outputs": []
    },
    {
      "cell_type": "code",
      "metadata": {
        "id": "c180f466"
      },
      "source": [
        "def toposortlist(AList):\n",
        "    (indegree,toposortlist) = ({},[])\n",
        "    zerodegreeq = Queue()\n",
        "\n",
        "    for u in AList.keys():\n",
        "        indegree[u] = 0\n",
        "\n",
        "    for u in AList.keys():\n",
        "        for v in AList[u]:\n",
        "            indegree[v] = indegree[v] + 1\n",
        "\n",
        "    for u in AList.keys():\n",
        "        if indegree[u] == 0:\n",
        "            zerodegreeq.addq(u)\n",
        "\n",
        "    while (not zerodegreeq.isempty()):\n",
        "        j = zerodegreeq.delq()\n",
        "        toposortlist.append(j)\n",
        "        indegree[j] = indegree[j]-1\n",
        "        for k in AList[j]:\n",
        "            indegree[k] = indegree[k] - 1\n",
        "            if indegree[k] == 0:\n",
        "                zerodegreeq.addq(k)\n",
        "\n",
        "    return(toposortlist)"
      ],
      "id": "c180f466",
      "execution_count": 50,
      "outputs": []
    },
    {
      "cell_type": "code",
      "metadata": {
        "id": "95b6d4fe"
      },
      "source": [
        "edges=[(0,2),(0,3),(0,4),(1,2),(1,7),(2,5),(3,5),(3,7),(4,7),(5,6),(6,7)]"
      ],
      "id": "95b6d4fe",
      "execution_count": 51,
      "outputs": []
    },
    {
      "cell_type": "code",
      "metadata": {
        "id": "b73201b3",
        "outputId": "6b43e19c-ca0a-4337-cc01-4ee6be362929",
        "colab": {
          "base_uri": "https://localhost:8080/"
        }
      },
      "source": [
        "toposortlist(AL)"
      ],
      "id": "b73201b3",
      "execution_count": 55,
      "outputs": [
        {
          "output_type": "execute_result",
          "data": {
            "text/plain": [
              "[]"
            ]
          },
          "metadata": {},
          "execution_count": 55
        }
      ]
    },
    {
      "cell_type": "code",
      "metadata": {
        "id": "16984e24",
        "outputId": "bf98f435-4191-4398-8fbe-358b33c6d501",
        "colab": {
          "base_uri": "https://localhost:8080/"
        }
      },
      "source": [
        "toposortlist(AL)"
      ],
      "id": "16984e24",
      "execution_count": 56,
      "outputs": [
        {
          "output_type": "execute_result",
          "data": {
            "text/plain": [
              "[]"
            ]
          },
          "metadata": {},
          "execution_count": 56
        }
      ]
    },
    {
      "cell_type": "code",
      "metadata": {
        "id": "ab1fd55d"
      },
      "source": [
        "def longestpathlist(AList):\n",
        "    (indegree,lpath) = ({},{})\n",
        "    zerodegreeq = Queue()\n",
        "\n",
        "    for u in AList.keys():\n",
        "        (indegree[u],lpath[u]) = (0,0)\n",
        "\n",
        "    for u in AList.keys():\n",
        "        for v in AList[u]:\n",
        "            indegree[v] = indegree[v] + 1\n",
        "\n",
        "    for u in AList.keys():\n",
        "        if indegree[u] == 0:\n",
        "            zerodegreeq.addq(u)\n",
        "\n",
        "    while (not zerodegreeq.isempty()):\n",
        "        j = zerodegreeq.delq()\n",
        "        indegree[j] = indegree[j]-1\n",
        "        for k in AList[j]:\n",
        "            indegree[k] = indegree[k] - 1\n",
        "            lpath[k] = max(lpath[k],lpath[j]+1)\n",
        "            if indegree[k] == 0:\n",
        "                zerodegreeq.addq(k)\n",
        "\n",
        "    return(lpath)"
      ],
      "id": "ab1fd55d",
      "execution_count": 57,
      "outputs": []
    },
    {
      "cell_type": "code",
      "metadata": {
        "id": "7b1cae3c",
        "outputId": "34636a3c-7295-4b1e-c7e4-06a26bd96c9c",
        "colab": {
          "base_uri": "https://localhost:8080/"
        }
      },
      "source": [
        "longestpathlist(AL)"
      ],
      "id": "7b1cae3c",
      "execution_count": 58,
      "outputs": [
        {
          "output_type": "execute_result",
          "data": {
            "text/plain": [
              "{0: 0, 1: 0, 2: 0, 3: 0, 4: 0, 5: 0, 6: 0, 7: 0, 8: 0, 9: 0}"
            ]
          },
          "metadata": {},
          "execution_count": 58
        }
      ]
    },
    {
      "cell_type": "code",
      "source": [],
      "metadata": {
        "id": "2RBI_3IAly__"
      },
      "id": "2RBI_3IAly__",
      "execution_count": null,
      "outputs": []
    }
  ]
}